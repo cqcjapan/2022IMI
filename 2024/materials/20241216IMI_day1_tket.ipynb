{
 "cells": [
  {
   "cell_type": "markdown",
   "id": "b8cb093b",
   "metadata": {
    "jp-MarkdownHeadingCollapsed": true,
    "tags": []
   },
   "source": [
    "## 1. 今日の量子コンピュータの問題\n",
    "\n",
    "- Noisy Intermediate-Scale Quantum (NISQ) デバイス\n",
    "    - 量子回路が深くなる（ゲート数が多くなる）ほど、誤差が大きくなる\n",
    "    - 十分な量子ビット数ではない\n",
    "- 量子コンピュータは特別な量子ゲートしか用意されていない。量子デバイスごとに異なる  \n",
    "  Quantinuum H-series: default: {Rz, PhasedX, ZZMax, ZZPhase}, option: {Rz, PhasedX, SU(4)},  \n",
    "  IBM Quantum: Heron {CZ, ID, RX, RZ, RZZ, SX, X}, Eagle {ECR, ID, RZ, SX, X}  \n",
    "- 量子コンピュータによっては特定の２量子ビット間のエンタングルゲートしか用意されていない  \n",
    "  Quantinuumの量子コンピュータは全結合なので、任意の二つの量子ビットをエンタングルさせることが可能\n",
    "- それぞれの量子コンピュータに対して、量子ソフトウェアツールキットが用意されてる\n"
   ]
  },
  {
   "cell_type": "markdown",
   "id": "6e1950ee",
   "metadata": {
    "jp-MarkdownHeadingCollapsed": true,
    "tags": []
   },
   "source": [
    "### 1-1. TKETとは\n",
    "- Quantum Software Development Kit\n",
    "- TKETに実装されている量子回路最適化はC++で実装。現在開発中のTKET2ではRustで実装。\n",
    "- pythonモジュール　ユーザーはPythonパッケージ`pytket`で量子プログラミングの開発が可能\n",
    "- 最適化コンパイラ：　ユーザーフレンドリーな回路→量子デバイスで実行可能な回路に変換可能\n",
    "    - Language-agnostic (多くの量子プログラミングフレームワーク(qiskit, Cirq, etc)をサポート)\n",
    "    - Retagetable (多くの量子デバイス(Quantinuum, IBM, Amazon Braket(IonQ, Rigetti, IQM), Microsoft Azure Quantum(Quantinuu,IonQ, Rigetti) etc)をサポート)\n",
    "    - Circuit Optimisation (量子計算時に生じるデバイスエラーの影響を最小化。デバイス依存＆デバイス非依存のものが実装)\n",
    "    \n",
    "<img src=\"./fig/tket1.png\" width=\"750\">\n",
    "\n"
   ]
  },
  {
   "cell_type": "markdown",
   "id": "75c32ba7",
   "metadata": {
    "tags": []
   },
   "source": [
    "#### 参照\n",
    "- [pytket ドキュメント](https://docs.quantinuum.com/tket/)\n",
    "- [pytket ユーザーガイド](https://docs.quantinuum.com/tket/user-guide/)\n",
    "- [t|ket⟩ : A Retargetable Compiler for NISQ Devices](https://arxiv.org/abs/2003.10611)\n",
    "- [TKET slack channel](https://join.slack.com/t/tketusers/shared_invite/zt-2aoan2s87-WDdZQeY2dbJQgAQE6O~3qg)\n",
    "\n",
    "<img src=\"./fig/slack-qr.png\" width=\"250\">\n"
   ]
  },
  {
   "cell_type": "markdown",
   "id": "90fcd536",
   "metadata": {
    "jp-MarkdownHeadingCollapsed": true,
    "tags": []
   },
   "source": [
    "### 1-2. pytketと拡張 pytket (python パッケージ)\n",
    "Python 3.10.11で動作確認をしています。\n",
    "\n",
    "|  パッケージ |  概要  |\n",
    "| :---- | :---- |\n",
    "|  pytket  |  TKETを利用するためのpython モジュール  ( available for python3.10 or higher )|\n",
    "|  pytket-quantinuum  |  Quantinuumデバイス、エミュレータを利用するためのpytket-extension  |\n",
    "|  pytket-qiskit  |  qiskit、IMBQデバイスを利用するためのpytket-extension  |\n",
    "|  pytket-azure  |  Azure Quantumを利用するためのpytket-extension  |\n",
    "|  pytket-braket  |  Amazon Braketを利用するためのpytket-extension  |\n",
    "|  pytket-circ    |  Google circを利用するためのpytket-extension  |\n",
    "|  pytket-qulacs  |  Qulacsシミュレータを利用するためのpytket-extension  |\n",
    "\n",
    "<img src=\"./fig/tket2.png\" width=\"850\">"
   ]
  },
  {
   "cell_type": "markdown",
   "id": "2e43c4f2",
   "metadata": {
    "tags": []
   },
   "source": [
    "## 2. 量子回路を作成して、シュミレータや量子コンピュータにジョブを実行　（より詳しい内容は２日目に行います）\n",
    "ここでは、量子デバイスやシュミレーションを利用するまでの一連の流れをと`TKET`で作成したBell状態の量子回路で見てみる。"
   ]
  },
  {
   "cell_type": "markdown",
   "id": "4df618b8-5104-4598-ab19-fbdc14d5abe5",
   "metadata": {},
   "source": [
    "pytket, pytket-extensionのインストール"
   ]
  },
  {
   "cell_type": "code",
   "execution_count": null,
   "id": "3c736351-4237-4b3e-ad70-845e72e20da7",
   "metadata": {},
   "outputs": [],
   "source": [
    "#!pip install -U pytket pytket-quantinuum pytket-quantinuum[pecos] "
   ]
  },
  {
   "cell_type": "code",
   "execution_count": null,
   "id": "babef865-ba10-4dac-8e70-991310d233b6",
   "metadata": {},
   "outputs": [],
   "source": [
    "!pip freeze |grep pytket"
   ]
  },
  {
   "cell_type": "markdown",
   "id": "82da5f25",
   "metadata": {
    "jp-MarkdownHeadingCollapsed": true
   },
   "source": [
    "### 2-1 `TKET`でBell状態を作成\n",
    "$$ |\\Psi\\rangle = \\frac{1}{\\sqrt{2}}(|00\\rangle+|11\\rangle)$$"
   ]
  },
  {
   "cell_type": "code",
   "execution_count": null,
   "id": "76615941",
   "metadata": {
    "tags": []
   },
   "outputs": [],
   "source": [
    "from pytket import Circuit\n",
    "from pytket.circuit.display import render_circuit_jupyter\n",
    "\n",
    "bell = Circuit(2)\n",
    "bell.H(0).CX(0,1)\n",
    "bell.measure_all()\n",
    "render_circuit_jupyter(bell)"
   ]
  },
  {
   "cell_type": "markdown",
   "id": "e308df7b-aebe-46b1-aec5-ca033c6059e3",
   "metadata": {},
   "source": [
    "Note：TKETの可視化では、可視化した量子回路の画像ファイルを出力できる。"
   ]
  },
  {
   "cell_type": "code",
   "execution_count": null,
   "id": "ffc4349a-f505-4ff3-b569-726de5056e13",
   "metadata": {},
   "outputs": [],
   "source": [
    "#bell.to_latex_file('bell.tex')"
   ]
  },
  {
   "cell_type": "markdown",
   "id": "e2378f3e",
   "metadata": {
    "jp-MarkdownHeadingCollapsed": true
   },
   "source": [
    "### 2-2. `pytket-quantinuum`でTKET 量子回路をQuantinuum エミュレータで計算"
   ]
  },
  {
   "cell_type": "code",
   "execution_count": null,
   "id": "f203ff15-7e68-46a8-a93a-d20e3c740962",
   "metadata": {},
   "outputs": [],
   "source": [
    "#!pip install -U pytket-quantinuum"
   ]
  },
  {
   "cell_type": "markdown",
   "id": "e12d8680-39b6-433e-937e-79d3b1a13fbe",
   "metadata": {},
   "source": [
    "#### ロカールマシンでQuantinuum エミュレータを利用するための設定"
   ]
  },
  {
   "cell_type": "code",
   "execution_count": null,
   "id": "aa0ca8f6",
   "metadata": {},
   "outputs": [],
   "source": [
    "from pytket.extensions.quantinuum import QuantinuumAPIOffline\n",
    "api = QuantinuumAPIOffline()"
   ]
  },
  {
   "cell_type": "code",
   "execution_count": null,
   "id": "f6b6b680",
   "metadata": {},
   "outputs": [],
   "source": [
    "from pytket.extensions.quantinuum import QuantinuumBackend\n",
    "backendlist= [b.device_name for b in QuantinuumBackend.available_devices(api_handler = api)]\n",
    "backendlist"
   ]
  },
  {
   "cell_type": "markdown",
   "id": "f762141a-a6b7-46e6-b825-79480bac06be",
   "metadata": {},
   "source": [
    "#### a. エミュレータまたはQuantinuum 量子コンピュータを選択  \n",
    "Quantinuum 量子コンピュータへのアクセスはマシンタイムの購入が必要"
   ]
  },
  {
   "cell_type": "code",
   "execution_count": null,
   "id": "b7ffbdd9-39c2-4e93-817f-b46e59476ab0",
   "metadata": {},
   "outputs": [],
   "source": [
    "quantinuum_backend = QuantinuumBackend(device_name ='H1-1LE',api_handler = api)"
   ]
  },
  {
   "cell_type": "code",
   "execution_count": null,
   "id": "1ec5828f-6d79-4aab-b733-dbc9cf7a2db0",
   "metadata": {},
   "outputs": [],
   "source": [
    "quantinuum_backend.backend_info"
   ]
  },
  {
   "cell_type": "markdown",
   "id": "b6d3c0e6-dab7-417a-8816-dacce8817451",
   "metadata": {},
   "source": [
    "#### b. 量子コンピュータ、エミュレータが用意しているゲートセットで量子回路を書き替える"
   ]
  },
  {
   "cell_type": "code",
   "execution_count": null,
   "id": "689c08cc",
   "metadata": {},
   "outputs": [],
   "source": [
    "quantinuum_bell = quantinuum_backend.get_compiled_circuit(bell)\n",
    "render_circuit_jupyter(quantinuum_bell)\n",
    "render_circuit_jupyter(bell)"
   ]
  },
  {
   "cell_type": "markdown",
   "id": "7949b629-c3c5-4161-bf46-d0f8b41f019b",
   "metadata": {},
   "source": [
    "#### c. 量子コンピュータ、エミュレータにジョブを実行し、計算結果を取得"
   ]
  },
  {
   "cell_type": "code",
   "execution_count": null,
   "id": "67b87429",
   "metadata": {},
   "outputs": [],
   "source": [
    "handle = quantinuum_backend.process_circuit(quantinuum_bell, n_shots=1000)\n",
    "result = quantinuum_backend.get_result(handle)"
   ]
  },
  {
   "cell_type": "code",
   "execution_count": null,
   "id": "5583006e",
   "metadata": {},
   "outputs": [],
   "source": [
    "from qiskit.visualization import plot_histogram\n",
    "counts = result.get_counts()\n",
    "plot_histogram(counts)"
   ]
  },
  {
   "cell_type": "markdown",
   "id": "a1e02a9b",
   "metadata": {},
   "source": [
    "### 2-3. `pytket-qiskit`でTKET 量子回路をIBM ローカルシミュレータ,IBM 量子コンピュータで計算"
   ]
  },
  {
   "cell_type": "code",
   "execution_count": null,
   "id": "1dc4815b-41e5-4935-b0ec-b931e3420bb7",
   "metadata": {},
   "outputs": [],
   "source": [
    "#!pip install -U pytket-qiskit"
   ]
  },
  {
   "cell_type": "markdown",
   "id": "4c0d22db",
   "metadata": {
    "slideshow": {
     "slide_type": "slide"
    }
   },
   "source": [
    "#### IBM ローカルシミュレータにジョブを実行"
   ]
  },
  {
   "cell_type": "markdown",
   "id": "964c443e-f6de-4b4f-8ab2-5351854f269b",
   "metadata": {},
   "source": [
    "##### a. エミュレータまたはQuantinuum 量子コンピュータを選択"
   ]
  },
  {
   "cell_type": "code",
   "execution_count": null,
   "id": "ebf64e96-1ec1-48b5-9d1e-2b24e17fc28b",
   "metadata": {},
   "outputs": [],
   "source": [
    "from pytket.extensions.qiskit import AerBackend\n",
    "backend = AerBackend()"
   ]
  },
  {
   "cell_type": "markdown",
   "id": "ef3f8942-f03f-4196-b26c-56553e61f7ca",
   "metadata": {},
   "source": [
    "##### b. 量子コンピュータ、エミュレータが用意しているゲートセットで量子回路を書き替える"
   ]
  },
  {
   "cell_type": "code",
   "execution_count": null,
   "id": "5a32cc82-5032-493f-91df-33ea314018d8",
   "metadata": {},
   "outputs": [],
   "source": [
    "ibm_bell = backend.get_compiled_circuit(bell)"
   ]
  },
  {
   "cell_type": "markdown",
   "id": "a92ca290-f2f0-4a32-a0b2-fb80c80f995e",
   "metadata": {},
   "source": [
    "##### c. 量子コンピュータ、エミュレータにジョブを実行し、計算結果を取得"
   ]
  },
  {
   "cell_type": "code",
   "execution_count": null,
   "id": "60b83a3f-a7f1-4288-b325-5fff6da92d41",
   "metadata": {},
   "outputs": [],
   "source": [
    "handle = backend.process_circuit(ibm_bell, n_shots =1000)\n",
    "result_counts = backend.get_result(handle).get_counts()\n",
    "plot_histogram(result_counts)"
   ]
  },
  {
   "cell_type": "markdown",
   "id": "f2099ee5-425a-4927-b1a9-dcf4ed876d64",
   "metadata": {},
   "source": [
    "#### IBMの量子デバイスにジョブを実行\n",
    "\n",
    "IBM Quantum device の情報, IBM Quantum トークンの取得  \n",
    "https://quantum.ibm.com/"
   ]
  },
  {
   "cell_type": "markdown",
   "id": "7919884d-64b5-4f4b-a080-15104f013886",
   "metadata": {},
   "source": [
    "##### IBM Quantum トークンの設定"
   ]
  },
  {
   "cell_type": "code",
   "execution_count": null,
   "id": "541fe6eb-69ba-45e1-bd4e-f3bb72c66a37",
   "metadata": {},
   "outputs": [],
   "source": [
    "path = 'key/ibm-token'\n",
    "f = open(path)\n",
    "ibm_token = f.read()\n",
    "f.close()\n",
    "from pytket.extensions.qiskit.backends.config import set_ibmq_config\n",
    "set_ibmq_config(ibmq_api_token=ibm_token, instance=f\"ibm-q/open/main\")"
   ]
  },
  {
   "cell_type": "code",
   "execution_count": null,
   "id": "1d93627c-3ebe-4401-8412-2e52a74d8228",
   "metadata": {},
   "outputs": [],
   "source": [
    "from pytket.extensions.qiskit import IBMQBackend"
   ]
  },
  {
   "cell_type": "code",
   "execution_count": null,
   "id": "ed63efd3-1031-41f9-bdf0-2a389a7060d0",
   "metadata": {},
   "outputs": [],
   "source": [
    "backendinfo_list = IBMQBackend.available_devices(instance=f\"ibm-q/open/main\")"
   ]
  },
  {
   "cell_type": "code",
   "execution_count": null,
   "id": "2da92576-0cd9-4dca-907f-cf64e00ec405",
   "metadata": {
    "tags": []
   },
   "outputs": [],
   "source": [
    "[dev.device_name for dev in backendinfo_list]"
   ]
  },
  {
   "cell_type": "markdown",
   "id": "053cfeb9-caa6-4f76-a10f-df8138d77ea8",
   "metadata": {},
   "source": [
    "#### a. エミュレータまたはQuantinuum 量子コンピュータを選択"
   ]
  },
  {
   "cell_type": "code",
   "execution_count": null,
   "id": "d2983583-6eef-454e-9631-095c5d47ad2b",
   "metadata": {},
   "outputs": [],
   "source": [
    "ibm_backend = IBMQBackend(\"ibm_brisbane\")\n",
    "ibm_backend.backend_info.device_name"
   ]
  },
  {
   "cell_type": "markdown",
   "id": "11e85ea9-19ed-45c0-9aa2-58508cc3d034",
   "metadata": {},
   "source": [
    "#### b. 量子コンピュータ、エミュレータが用意しているゲートセットで量子回路を書き替える"
   ]
  },
  {
   "cell_type": "code",
   "execution_count": null,
   "id": "c2117d90-9dd7-48a0-9dbe-52474bc43e91",
   "metadata": {},
   "outputs": [],
   "source": [
    "ibm_bell = ibm_backend.get_compiled_circuit(bell)\n",
    "render_circuit_jupyter(ibm_bell)\n",
    "render_circuit_jupyter(bell)"
   ]
  },
  {
   "cell_type": "markdown",
   "id": "041ebd56-2db3-4e66-b73d-3d9bc570bbac",
   "metadata": {},
   "source": [
    "#### c. 量子コンピュータ、エミュレータにジョブを実行し、計算結果を取得"
   ]
  },
  {
   "cell_type": "code",
   "execution_count": null,
   "id": "33171256-8ef9-44a0-a66c-293a9bca9459",
   "metadata": {},
   "outputs": [],
   "source": [
    "handle = ibm_backend.process_circuit(ibm_bell, n_shots =1000)\n",
    "#result = ibm_backend.get_result(handle)\n",
    "#counts = result.get_counts()\n",
    "#plot_histogram(counts)"
   ]
  },
  {
   "cell_type": "code",
   "execution_count": null,
   "id": "16cc1c34-9d0c-4418-a74e-916cd51b67df",
   "metadata": {},
   "outputs": [],
   "source": [
    "#from pytket.backends import ResultHandle\n",
    "#from pytket.extensions.qiskit import IBMQBackend\n",
    "#ibm_backend = IBMQBackend(\"ibm_kyiv\")"
   ]
  },
  {
   "cell_type": "code",
   "execution_count": null,
   "id": "b066bf46-7828-4da2-a883-af74fc0c134f",
   "metadata": {},
   "outputs": [],
   "source": [
    "#handle_id = ('cx8kz9xbqkhg0088wra0', 0, 2, 'null')\n",
    "#handle = ResultHandle.from_str(str(handle_id))\n",
    "#result = ibm_backend.get_result(handle)\n",
    "#counts = result.get_counts()\n",
    "#print(counts)\n",
    "#from qiskit.visualization import plot_histogram\n",
    "#plot_histogram(counts)"
   ]
  },
  {
   "cell_type": "markdown",
   "id": "19a5ddbf-8e50-4af7-b7fa-d02623945b0b",
   "metadata": {
    "jp-MarkdownHeadingCollapsed": true
   },
   "source": [
    "### 2-4. `pytket-qulacs`でTKET 量子回路をQulacsシミュレータで計算"
   ]
  },
  {
   "cell_type": "code",
   "execution_count": null,
   "id": "1eb4e45d-be8e-4566-89c3-73923fd8a921",
   "metadata": {},
   "outputs": [],
   "source": [
    "#!pip install -U pytket-qulacs"
   ]
  },
  {
   "cell_type": "markdown",
   "id": "6539ee04-8a21-4c41-a1e5-f23a1eb7a4b4",
   "metadata": {},
   "source": [
    "#### a. エミュレータまたはQuantinuum 量子コンピュータを選択"
   ]
  },
  {
   "cell_type": "code",
   "execution_count": null,
   "id": "9e4e9f5c-fb93-47a2-bf47-55d3044784b1",
   "metadata": {},
   "outputs": [],
   "source": [
    "from pytket.extensions.qulacs import QulacsBackend\n",
    "qulacs_backend = QulacsBackend()"
   ]
  },
  {
   "cell_type": "code",
   "execution_count": null,
   "id": "c9882df1",
   "metadata": {},
   "outputs": [],
   "source": [
    "qulacs_backend.backend_info"
   ]
  },
  {
   "cell_type": "markdown",
   "id": "702783b9-c5e6-4cb3-b7b3-8bfddf5e728c",
   "metadata": {},
   "source": [
    "#### b. 量子コンピュータ、エミュレータが用意しているゲートセットで量子回路を書き替える"
   ]
  },
  {
   "cell_type": "code",
   "execution_count": null,
   "id": "b3d1f7db-e8c1-427a-81be-0979acc8ff4c",
   "metadata": {},
   "outputs": [],
   "source": [
    "qulacs_bell = qulacs_backend.get_compiled_circuit(bell)"
   ]
  },
  {
   "cell_type": "markdown",
   "id": "5faee152-7f05-40f7-a5b9-e4bae3888d02",
   "metadata": {},
   "source": [
    "#### c. 量子コンピュータ、エミュレータにジョブを実行し、計算結果を取得"
   ]
  },
  {
   "cell_type": "code",
   "execution_count": null,
   "id": "aa0fb35f",
   "metadata": {},
   "outputs": [],
   "source": [
    "handle = qulacs_backend.process_circuit(bell, n_shots =1000)\n",
    "result_counts = qulacs_backend.get_result(handle).get_counts()\n",
    "plot_histogram(result_counts)"
   ]
  },
  {
   "cell_type": "markdown",
   "id": "fbd1a75e-95c4-4eea-9a90-37d9c0d88843",
   "metadata": {},
   "source": [
    "#### GPU上でQulacsを利用している場合にも対応している\n"
   ]
  },
  {
   "cell_type": "code",
   "execution_count": null,
   "id": "5f594f73-d88a-4feb-9816-b4e76c1be261",
   "metadata": {},
   "outputs": [],
   "source": [
    "#from pytket.extensions.qulacs import QulacsGPUBackend\n",
    "#qualcs_backend = QulacsGPUBackend()\n",
    "#qulacs_bell = qulacs_backend.get_compiled_circuit(bell)\n",
    "#handle = qulacs_backend.process_circuit(qulacs_bell, n_shots =1000)\n",
    "#result_counts = qulacs_backend.get_result(handle).get_counts()\n",
    "#plot_histogram(result_counts)"
   ]
  },
  {
   "cell_type": "markdown",
   "id": "92b2cd58-01eb-4c01-bf9c-640b410da622",
   "metadata": {},
   "source": [
    "詳しくは\n",
    "https://tket.quantinuum.com/extensions/pytket-qulacs/\n",
    "を参照ください"
   ]
  },
  {
   "cell_type": "markdown",
   "id": "ec052f65",
   "metadata": {
    "jp-MarkdownHeadingCollapsed": true
   },
   "source": [
    "### 2-5. `pytket-azure`でTKET 量子回路をMicrosoft Azure Quantum(有料)にある量子デバイスで計算\n",
    "本講演では詳細は割愛致しますが、Azure Quantum上でTKETをご利用になられたい方は下記のページを参考に設定をしてください。  \n",
    "https://tket.quantinuum.com/extensions/pytket-azure/\n",
    "または  \n",
    "米澤(yasuyoshi.yonezawa@quantinuum.com)までご連絡ください。"
   ]
  },
  {
   "cell_type": "code",
   "execution_count": null,
   "id": "e6922ae7-fc7d-4215-9ed4-6208b7963c8b",
   "metadata": {},
   "outputs": [],
   "source": [
    "#!pip install pytket-azure"
   ]
  },
  {
   "cell_type": "markdown",
   "id": "ae913db5-3248-4016-ac6e-233bb6ec562c",
   "metadata": {},
   "source": [
    "#### Azure Quantum connection_stringの設定\n",
    "connection_string は下記を参照して取得してください。  \n",
    "https://learn.microsoft.com/en-us/azure/quantum/how-to-connect-workspace"
   ]
  },
  {
   "cell_type": "code",
   "execution_count": null,
   "id": "ea4ee423-8807-4dd6-9ccc-738619feccff",
   "metadata": {},
   "outputs": [],
   "source": [
    "path = 'key/azure-key'\n",
    "f = open(path)\n",
    "connection_string = f.read()\n",
    "f.close()\n",
    "# Azure Qauntum上の量子デバイスまたはシミュレータを利用する\n",
    "from pytket.extensions.azure import AzureBackend, AzureConfig, set_azure_config\n",
    "set_azure_config(connection_string= connection_string, use_string = True)"
   ]
  },
  {
   "cell_type": "code",
   "execution_count": null,
   "id": "46fb08f0",
   "metadata": {},
   "outputs": [],
   "source": [
    "backendinfo_list = [device.device_name for device in AzureBackend.available_devices()]\n",
    "backendinfo_list"
   ]
  },
  {
   "cell_type": "markdown",
   "id": "88cd86db-ffd7-430f-9211-72ff84c49ee5",
   "metadata": {},
   "source": [
    "#### a. エミュレータまたはQuantinuum 量子コンピュータを選択"
   ]
  },
  {
   "cell_type": "code",
   "execution_count": null,
   "id": "1d0d543a-89ce-49e3-b51b-56b4fa340b85",
   "metadata": {},
   "outputs": [],
   "source": [
    "# Quantinuum H1 device\n",
    "# azure_backend = AzureBackend(name='quantinuum.qpu.h1-1')\n",
    "# Quantinuum H1 emulator\n",
    "# azure_backend = AzureBackend(name='quantinuum.sim.h1-1e')\n",
    "# Quantinuum H1 Syntax Checker\n",
    "azure_backend = AzureBackend(name='quantinuum.sim.h1-1sc')\n",
    "\n",
    "# Rigetti device\n",
    "# azure_backend = AzureBackend(name='rigetti.qpu.ankaa-9q-3')\n",
    "# Rigetti simulator\n",
    "# azure_backend = AzureBackend(name='rigetti.sim.qvm')\n",
    "\n",
    "# IonQ device\n",
    "# azure_backend = AzureBackend(name='ionq.qpu.aria-1')\n",
    "# azure_backend = AzureBackend(name='ionq.qpu.aria-2')\n",
    "# IonQ simulator\n",
    "# azure_backend = AzureBackend(name='ionq.simulator')"
   ]
  },
  {
   "cell_type": "code",
   "execution_count": null,
   "id": "80bb968c-f06c-45d5-8ba2-311d104b1a67",
   "metadata": {},
   "outputs": [],
   "source": [
    "azure_backend.backend_info"
   ]
  },
  {
   "cell_type": "markdown",
   "id": "34b580a0-a1db-47f7-8ec1-b0b6c2a4cd8f",
   "metadata": {},
   "source": [
    "#### b. 量子コンピュータ、エミュレータが用意しているゲートセットで量子回路を書き替える"
   ]
  },
  {
   "cell_type": "code",
   "execution_count": null,
   "id": "66283b47-c4e5-40c8-a970-b40e5c3c4ec4",
   "metadata": {},
   "outputs": [],
   "source": [
    "azure_bell = azure_backend.get_compiled_circuit(bell)\n",
    "render_circuit_jupyter(azure_bell)"
   ]
  },
  {
   "cell_type": "markdown",
   "id": "870eeb33-bc44-4ea3-98ce-488946a684a1",
   "metadata": {},
   "source": [
    "#### c. 量子コンピュータ、エミュレータにジョブを実行し、計算結果を取得"
   ]
  },
  {
   "cell_type": "code",
   "execution_count": null,
   "id": "ed72cd58-5a31-4163-ab32-e5502120dd47",
   "metadata": {},
   "outputs": [],
   "source": [
    "result = azure_backend.run_circuit(azure_bell, n_shots=100)\n",
    "counts = result.get_counts()\n",
    "counts"
   ]
  },
  {
   "cell_type": "markdown",
   "id": "147defbd-0961-42d5-ac0b-47455ab5d8a7",
   "metadata": {
    "jp-MarkdownHeadingCollapsed": true
   },
   "source": [
    "### 2-6. `pytket-braket`でTKET 量子回路をBraketシミュレータやAmazon Braket(有料)にある量子デバイスで計算\n",
    "本講演では詳細は割愛致しますが、Amazon Bracket上でTKETをご利用になられたい方は下記のページを参考に設定をしてください。  \n",
    "https://tket.quantinuum.com/extensions/pytket-braket/  \n",
    "または  \n",
    "米澤(yasuyoshi.yonezawa@quantinuum.com)までご連絡ください。"
   ]
  },
  {
   "cell_type": "markdown",
   "id": "26f58aef-f482-45c0-9762-bc9c072080bd",
   "metadata": {},
   "source": [
    "#### A.ローカル環境からBraketにアクセスされている方は、keyフォルダーのaws-keyのアクセスキー等の情報を入力し下記を実行してください"
   ]
  },
  {
   "cell_type": "code",
   "execution_count": null,
   "id": "a44c34e7-2f38-468e-8fe0-96101ad6ced3",
   "metadata": {},
   "outputs": [],
   "source": [
    "#!pip install -U pytket-braket"
   ]
  },
  {
   "cell_type": "code",
   "execution_count": null,
   "id": "bf9a13a6-9d34-4c2d-92e9-90f1f306cf00",
   "metadata": {},
   "outputs": [],
   "source": [
    "path = 'key/aws-key'\n",
    "f = open(path)\n",
    "aws_access_key_id, aws_secret_access_key, s3_name, bucket_key= [s.strip() for s in f.readlines()]\n",
    "f.close()"
   ]
  },
  {
   "cell_type": "code",
   "execution_count": null,
   "id": "4320c59e-03a3-499f-843a-d9b64c0e3206",
   "metadata": {},
   "outputs": [],
   "source": [
    "import boto3\n",
    "from braket.aws import AwsSession\n",
    "boto_session = boto3.Session(\n",
    "    aws_access_key_id= aws_access_key_id,\n",
    "    aws_secret_access_key= aws_secret_access_key,\n",
    "    region_name= 'us-east-1'\n",
    "#    region_name= 'us-west-1'\n",
    "#    region_name= 'eu-north-1'\n",
    ")\n",
    "## us-east-1: IonQ, Simulators\n",
    "## us-west-1: Rigetti, Simulators\n",
    "## eu-north-1: IQM, Simulators\n",
    "##\n",
    "aws_session = AwsSession(boto_session=boto_session)"
   ]
  },
  {
   "cell_type": "code",
   "execution_count": null,
   "id": "40f723b6-4989-4fdf-80c5-dd48515ca168",
   "metadata": {},
   "outputs": [],
   "source": [
    "[dev for dev in aws_session.search_devices() if dev[\"deviceStatus\"]!='RETIRED']"
   ]
  },
  {
   "cell_type": "markdown",
   "id": "1b5201aa-5d7f-4e46-9580-7d1377a92cac",
   "metadata": {},
   "source": [
    "#### B. Sagemaker StudioからBraketにアクセスされる方は下記を実行してください。"
   ]
  },
  {
   "cell_type": "code",
   "execution_count": null,
   "id": "ba19027e-751b-49e4-9e0e-318e7029d008",
   "metadata": {},
   "outputs": [],
   "source": [
    "#!pip install pytket-braket"
   ]
  },
  {
   "cell_type": "code",
   "execution_count": null,
   "id": "750404da-585b-4a2b-a94a-b972fdd3aab2",
   "metadata": {},
   "outputs": [],
   "source": [
    "#import boto3\n",
    "#from braket.aws import AwsSession\n",
    "#boto_session = boto3.Session(\n",
    "#    aws_access_key_id= aws_access_key_id,\n",
    "#    aws_secret_access_key= aws_secret_access_key,\n",
    "#    region_name= 'us-east-1'\n",
    "#    region_name= 'us-west-1'\n",
    "#    region_name= 'eu-north-1'\n",
    "#)\n",
    "# us-east-1: IonQ, Simulators\n",
    "# us-west-1: Rigetti, Simulators\n",
    "# eu-west-2: IQM\n",
    "#\n",
    "#aws_session = AwsSession(boto_session=boto_session)"
   ]
  },
  {
   "cell_type": "code",
   "execution_count": null,
   "id": "e5c28d05-2627-4797-8faa-40ebc7ea0e56",
   "metadata": {},
   "outputs": [],
   "source": [
    "#[dev for dev in aws_session.search_devices() if dev[\"deviceStatus\"]!='RETIRED']"
   ]
  },
  {
   "cell_type": "markdown",
   "id": "afde182e-4c18-4e67-9252-0ea90edb7527",
   "metadata": {},
   "source": [
    "#### a. エミュレータまたはQuantinuum 量子コンピュータを選択"
   ]
  },
  {
   "cell_type": "code",
   "execution_count": null,
   "id": "45cfdf67-2861-4613-83f4-6fe16060a82e",
   "metadata": {},
   "outputs": [],
   "source": [
    "# backend の選択\n",
    "from pytket.extensions.braket import BraketBackend\n",
    "\n",
    "# ionQ   arn:aws:braket:us-east-1::device/qpu/ionq/Aria-1, region: us-east-1\n",
    "# aws_backend = BraketBackend(device='Aria-1',region = 'us-east-1', s3_bucket=s3_name , s3_folder = bucket_key, device_type = 'qpu', provider = 'ionq', aws_session=aws_session)\n",
    "# ionQ   arn:aws:braket:us-east-1::device/qpu/ionq/Aria-2, region: us-east-1\n",
    "# aws_backend = BraketBackend(device='Aria-2',region = 'us-east-1', s3_bucket=s3_name , s3_folder = bucket_key, device_type = 'qpu', provider = 'ionq', aws_session=aws_session)\n",
    "# ionQ   arn:aws:braket:us-east-1::device/qpu/ionq/Forte-1, region: us-east-1\n",
    "# aws_backend = BraketBackend(device='Forte-1',region = 'us-east-1', s3_bucket=s3_name , s3_folder = bucket_key, device_type = 'qpu', provider = 'ionq', aws_session=aws_session)\n",
    "\n",
    "# Ankaa-2   arn:aws:braket:us-west-1::device/qpu/rigetti/Ankaa-2 #Ankaa-2, region: us-west-1\n",
    "# aws_backend = BraketBackend(device='Ankaa-2',region = 'us-west-1', s3_bucket=s3_name , s3_folder = bucket_key, device_type = 'qpu', provider = 'rigetti', aws_session=aws_session)\n",
    "\n",
    "# IQM Garnet arn:aws:braket:eu-north-1::device/qpu/iqm/Garnet\n",
    "# aws_backend = BraketBackend(device='Garnet',region = 'eu-north-1', s3_bucket=s3_name , s3_folder = bucket_key, device_type = 'qpu', provider = 'iqm', aws_session=aws_session)\n",
    "\n",
    "# SV1    sim_arn = 'arn:aws:braket:::device/quantum-simulator/amazon/sv1'     #SV1, region:\n",
    "# aws_backend = BraketBackend(device='sv1', s3_bucket=s3_name , s3_folder = bucket_key, aws_session=aws_session)\n",
    "# TN1   sim_arn = 'arn:aws:braket:::device/quantum-simulator/amazon/tn1'    #TN1, region: us-west-2, us-east-1\n",
    "# aws_backend = BraketBackend(device='tn1', s3_bucket=s3_name , s3_folder = bucket_key, device_type = 'quantum-simulator', provider = 'amazon', aws_session=aws_session)\n",
    "# DM1   sim_arn = 'arn:aws:braket:::device/quantum-simulator/amazon/dm1'    #DM1, region: \n",
    "# aws_backend = BraketBackend(device='dm1', s3_bucket=s3_name , s3_folder = bucket_key, device_type = 'quantum-simulator', provider = 'amazon', aws_session=aws_session)\n",
    "# Local sv1 simulator\n",
    "aws_backend = BraketBackend(local = True)"
   ]
  },
  {
   "cell_type": "code",
   "execution_count": null,
   "id": "1a973261-89c7-48d0-a95e-7e6cbb29457c",
   "metadata": {
    "tags": []
   },
   "outputs": [],
   "source": [
    "aws_backend.backend_info"
   ]
  },
  {
   "cell_type": "markdown",
   "id": "2330dc1e-96fb-42de-9ab0-86fdf4a2996f",
   "metadata": {},
   "source": [
    "#### b. 量子コンピュータ、エミュレータが用意しているゲートセットで量子回路を書き替える"
   ]
  },
  {
   "cell_type": "code",
   "execution_count": null,
   "id": "668dbd2a-4810-4f84-b477-542f09ae5746",
   "metadata": {},
   "outputs": [],
   "source": [
    "aws_bell = aws_backend.get_compiled_circuit(bell)\n",
    "render_circuit_jupyter(aws_bell)"
   ]
  },
  {
   "cell_type": "markdown",
   "id": "0b6a99a1-6491-42ec-962c-4a92ac8e720d",
   "metadata": {},
   "source": [
    "#### c. 量子コンピュータ、エミュレータにジョブを実行し、計算結果を取得"
   ]
  },
  {
   "cell_type": "code",
   "execution_count": null,
   "id": "7f61ead6-64c5-4a67-97d1-3267fe81ccef",
   "metadata": {},
   "outputs": [],
   "source": [
    "aws_handle = aws_backend.process_circuit(aws_bell, n_shots =100)\n",
    "aws_result = aws_backend.get_result(aws_handle)\n",
    "plot_histogram(aws_result.get_counts())"
   ]
  },
  {
   "cell_type": "markdown",
   "id": "3409b146-65a8-4095-94cb-c34b9a4dcbc8",
   "metadata": {
    "jp-MarkdownHeadingCollapsed": true
   },
   "source": [
    "## 3. 量子回路の最適化\n",
    "量子計算時に生じるデバイスエラーの影響を最小化。  \n",
    "デバイス非依存の最適化とデバイス依存の最適化（実はすでに上記で利用）がある。  \n",
    "詳しくは２日目にご紹介します。"
   ]
  },
  {
   "cell_type": "markdown",
   "id": "5a0e1094-bf52-447d-9f1c-0d1e00d62a3f",
   "metadata": {
    "jp-MarkdownHeadingCollapsed": true
   },
   "source": [
    "### 3-1. `PauliSquash` 関数を利用した、量子回路の最適化\n",
    "TKETには量子回路を最適化する様々な機能が用意されている。\n",
    "ここで`PauliSquash` 関数を利用した回路の最適化（デバイス非依存）を行う。\n",
    "`PauliSquash` 関数：Pauli ゲートとCliffordゲートで表現された量子回路を出力）\n",
    "\n",
    "ランダムな量子回路を作成し、回路の深さとCXの深さを数える。"
   ]
  },
  {
   "cell_type": "code",
   "execution_count": null,
   "id": "a96b3e7a",
   "metadata": {},
   "outputs": [],
   "source": [
    "from pytket.pauli import Pauli\n",
    "from pytket.circuit import PauliExpBox, fresh_symbol, OpType\n",
    "from pytket.passes import DecomposeBoxes\n",
    "box = PauliExpBox([Pauli.I, Pauli.Z, Pauli.X, Pauli.Y], fresh_symbol('tm'))\n",
    "from pytket.utils import Graph\n",
    "import numpy as np\n",
    "\n",
    "def get_random_pauli_gadgets(n_qubits, n_pauli_gadgets, max_entangle):\n",
    "    \"\"\" \"\"\"\n",
    "    paulis = [Pauli.I, Pauli.X, Pauli.Y, Pauli.Z]\n",
    "    circ = Circuit(n_qubits)\n",
    "    for i in range(n_pauli_gadgets):\n",
    "        ls_paulis = [np.random.choice(paulis) for k in range(max_entangle)]\n",
    "        if ls_paulis.count(Pauli.Y) % 2 == 0:\n",
    "            continue\n",
    "        if len(ls_paulis) - ls_paulis.count(Pauli.I) <= 1:\n",
    "            continue\n",
    "        qubits = np.random.choice(\n",
    "            [i for i in range(n_qubits)], size=max_entangle, replace=False\n",
    "        )\n",
    "        box = PauliExpBox(ls_paulis, fresh_symbol('a'))\n",
    "        circ.add_pauliexpbox(box, sorted(qubits))\n",
    "    DecomposeBoxes().apply(circ)\n",
    "    return circ"
   ]
  },
  {
   "cell_type": "markdown",
   "id": "bd9b50f3-9b10-4d05-92d3-1a59c19194dc",
   "metadata": {},
   "source": [
    "ランダムな量子ゲート（Pauliガジェット）を含んだ量子回路を作成"
   ]
  },
  {
   "cell_type": "code",
   "execution_count": null,
   "id": "e85413b8-025a-44f9-957c-784baa23d4aa",
   "metadata": {},
   "outputs": [],
   "source": [
    "circ = get_random_pauli_gadgets(\n",
    "    n_qubits=8, n_pauli_gadgets=200, max_entangle=4\n",
    ")\n",
    "print('Circuit depth: ', circ.depth())\n",
    "print('CX depth: ', circ.depth_by_type(OpType.CX))\n",
    "render_circuit_jupyter(circ)"
   ]
  },
  {
   "cell_type": "markdown",
   "id": "dfe39210",
   "metadata": {},
   "source": [
    "`PauliSquash` 関数を使って、量子回路の最適化"
   ]
  },
  {
   "cell_type": "code",
   "execution_count": null,
   "id": "d48f9aac",
   "metadata": {},
   "outputs": [],
   "source": [
    "# Circuit optimization by using compiler passes.\n",
    "from pytket.passes import PauliSquash\n",
    "circx = circ.copy()\n",
    "PauliSquash().apply(circx)\n",
    "#FullPeepholeOptimise().apply(circx)\n",
    "print('Circuit depth: ', circx.depth())\n",
    "print('CX depth: ', circx.depth_by_type(OpType.CX))\n",
    "render_circuit_jupyter(circx)"
   ]
  },
  {
   "cell_type": "markdown",
   "id": "3f570571",
   "metadata": {
    "jp-MarkdownHeadingCollapsed": true,
    "tags": []
   },
   "source": [
    "## 4. 量子回路の変換\n",
    "pytketでは\n",
    "- qiskitで記述した量子回路(`qiskit.QuantumCircuit`)からTKETの量子回路のクラスに変換が可能\n",
    "- TKETで記述した量子回路からqiskitの量子回路(`qiskit.QuantumCircuit`)のクラスに変換が可能\n",
    "- TKETで記述した量子回路と他の量子プログラミング言語(一部)での量子回路の交換が可能\n",
    "\n",
    "参照：[pytket-extensions](https://tket.quantinuum.com/api-docs/extensions.html) "
   ]
  },
  {
   "cell_type": "markdown",
   "id": "cc06b5db",
   "metadata": {
    "jp-MarkdownHeadingCollapsed": true
   },
   "source": [
    "### 4-1. `qiskit`の量子回路から`TKET`の量子回路に変換"
   ]
  },
  {
   "cell_type": "code",
   "execution_count": null,
   "id": "34e7b9ae-ca93-490a-acb4-0d7516ecac02",
   "metadata": {},
   "outputs": [],
   "source": [
    "from qiskit import QuantumCircuit"
   ]
  },
  {
   "cell_type": "code",
   "execution_count": null,
   "id": "5bf673e9-970e-43f0-bc59-51a2f40ed7e3",
   "metadata": {},
   "outputs": [],
   "source": [
    "q_bell = QuantumCircuit(2)\n",
    "q_bell.h(0)\n",
    "q_bell.cx(0,1)\n",
    "q_bell.measure_all()\n",
    "q_bell.draw('mpl')"
   ]
  },
  {
   "cell_type": "code",
   "execution_count": null,
   "id": "67884d14",
   "metadata": {},
   "outputs": [],
   "source": [
    "from pytket.extensions.qiskit import qiskit_to_tk"
   ]
  },
  {
   "cell_type": "code",
   "execution_count": null,
   "id": "13f9045c",
   "metadata": {},
   "outputs": [],
   "source": [
    "bell2 = qiskit_to_tk(q_bell)\n",
    "bell2"
   ]
  },
  {
   "cell_type": "code",
   "execution_count": null,
   "id": "131f2a7c",
   "metadata": {},
   "outputs": [],
   "source": [
    "render_circuit_jupyter(bell2)"
   ]
  },
  {
   "cell_type": "markdown",
   "id": "1d354e75",
   "metadata": {
    "jp-MarkdownHeadingCollapsed": true
   },
   "source": [
    "### 4-2. `TKET`の量子回路から`qiskit`の量子回路に変換"
   ]
  },
  {
   "cell_type": "code",
   "execution_count": null,
   "id": "bfe450cc",
   "metadata": {},
   "outputs": [],
   "source": [
    "from pytket.extensions.qiskit import tk_to_qiskit"
   ]
  },
  {
   "cell_type": "code",
   "execution_count": null,
   "id": "d91a19a2",
   "metadata": {},
   "outputs": [],
   "source": [
    "q_bell2 = tk_to_qiskit(bell)\n",
    "q_bell2"
   ]
  },
  {
   "cell_type": "code",
   "execution_count": null,
   "id": "06031b7d",
   "metadata": {},
   "outputs": [],
   "source": [
    "q_bell2.draw('mpl')"
   ]
  },
  {
   "cell_type": "markdown",
   "id": "329feca3-01c6-47a4-9b67-3a8336df9d34",
   "metadata": {
    "jp-MarkdownHeadingCollapsed": true
   },
   "source": [
    "## 文献等"
   ]
  },
  {
   "cell_type": "markdown",
   "id": "f5531565-c200-410b-b964-e0695bf2416d",
   "metadata": {
    "jp-MarkdownHeadingCollapsed": true,
    "tags": []
   },
   "source": [
    "弊社Quantinuumのご紹介\n",
    "- Quantinuum ウェブサイト（ 英語 ）： https://www.quantinuum.com/\n",
    "- Quantinuum K.K. ウェブサイト（ 日本語 ）： https://quantinuum.co.jp/\n",
    "- ニュース（ 日本語 ）： https://quantinuum.co.jp/news/  \n",
    "- X（ 日本語 ）： https://x.com/quantinuum_jp?lang=en\n",
    "- Quantinuum K.K.主催の勉強会（ 日本語 ）： https://quantinuum.connpass.com/  \n",
    "- 採用情報：https://jobs.eu.lever.co/quantinuum?location=Japan%20Tokyo\n",
    "- TKET slack channel：[TKET slack channel](https://join.slack.com/t/tketusers/shared_invite/zt-2aoan2s87-WDdZQeY2dbJQgAQE6O~3qg)\n",
    "\n",
    "<img src=\"./fig/slack-qr.png\" width=\"250\">\n"
   ]
  },
  {
   "cell_type": "code",
   "execution_count": null,
   "id": "41dc5af2-36de-4f36-a498-6523de5c7296",
   "metadata": {},
   "outputs": [],
   "source": []
  },
  {
   "cell_type": "code",
   "execution_count": null,
   "id": "a48663ec-19c7-43d7-ac43-93e0e0868b43",
   "metadata": {},
   "outputs": [],
   "source": []
  }
 ],
 "metadata": {
  "availableInstances": [
   {
    "_defaultOrder": 0,
    "_isFastLaunch": true,
    "category": "General purpose",
    "gpuNum": 0,
    "hideHardwareSpecs": false,
    "memoryGiB": 4,
    "name": "ml.t3.medium",
    "vcpuNum": 2
   },
   {
    "_defaultOrder": 1,
    "_isFastLaunch": false,
    "category": "General purpose",
    "gpuNum": 0,
    "hideHardwareSpecs": false,
    "memoryGiB": 8,
    "name": "ml.t3.large",
    "vcpuNum": 2
   },
   {
    "_defaultOrder": 2,
    "_isFastLaunch": false,
    "category": "General purpose",
    "gpuNum": 0,
    "hideHardwareSpecs": false,
    "memoryGiB": 16,
    "name": "ml.t3.xlarge",
    "vcpuNum": 4
   },
   {
    "_defaultOrder": 3,
    "_isFastLaunch": false,
    "category": "General purpose",
    "gpuNum": 0,
    "hideHardwareSpecs": false,
    "memoryGiB": 32,
    "name": "ml.t3.2xlarge",
    "vcpuNum": 8
   },
   {
    "_defaultOrder": 4,
    "_isFastLaunch": true,
    "category": "General purpose",
    "gpuNum": 0,
    "hideHardwareSpecs": false,
    "memoryGiB": 8,
    "name": "ml.m5.large",
    "vcpuNum": 2
   },
   {
    "_defaultOrder": 5,
    "_isFastLaunch": false,
    "category": "General purpose",
    "gpuNum": 0,
    "hideHardwareSpecs": false,
    "memoryGiB": 16,
    "name": "ml.m5.xlarge",
    "vcpuNum": 4
   },
   {
    "_defaultOrder": 6,
    "_isFastLaunch": false,
    "category": "General purpose",
    "gpuNum": 0,
    "hideHardwareSpecs": false,
    "memoryGiB": 32,
    "name": "ml.m5.2xlarge",
    "vcpuNum": 8
   },
   {
    "_defaultOrder": 7,
    "_isFastLaunch": false,
    "category": "General purpose",
    "gpuNum": 0,
    "hideHardwareSpecs": false,
    "memoryGiB": 64,
    "name": "ml.m5.4xlarge",
    "vcpuNum": 16
   },
   {
    "_defaultOrder": 8,
    "_isFastLaunch": false,
    "category": "General purpose",
    "gpuNum": 0,
    "hideHardwareSpecs": false,
    "memoryGiB": 128,
    "name": "ml.m5.8xlarge",
    "vcpuNum": 32
   },
   {
    "_defaultOrder": 9,
    "_isFastLaunch": false,
    "category": "General purpose",
    "gpuNum": 0,
    "hideHardwareSpecs": false,
    "memoryGiB": 192,
    "name": "ml.m5.12xlarge",
    "vcpuNum": 48
   },
   {
    "_defaultOrder": 10,
    "_isFastLaunch": false,
    "category": "General purpose",
    "gpuNum": 0,
    "hideHardwareSpecs": false,
    "memoryGiB": 256,
    "name": "ml.m5.16xlarge",
    "vcpuNum": 64
   },
   {
    "_defaultOrder": 11,
    "_isFastLaunch": false,
    "category": "General purpose",
    "gpuNum": 0,
    "hideHardwareSpecs": false,
    "memoryGiB": 384,
    "name": "ml.m5.24xlarge",
    "vcpuNum": 96
   },
   {
    "_defaultOrder": 12,
    "_isFastLaunch": false,
    "category": "General purpose",
    "gpuNum": 0,
    "hideHardwareSpecs": false,
    "memoryGiB": 8,
    "name": "ml.m5d.large",
    "vcpuNum": 2
   },
   {
    "_defaultOrder": 13,
    "_isFastLaunch": false,
    "category": "General purpose",
    "gpuNum": 0,
    "hideHardwareSpecs": false,
    "memoryGiB": 16,
    "name": "ml.m5d.xlarge",
    "vcpuNum": 4
   },
   {
    "_defaultOrder": 14,
    "_isFastLaunch": false,
    "category": "General purpose",
    "gpuNum": 0,
    "hideHardwareSpecs": false,
    "memoryGiB": 32,
    "name": "ml.m5d.2xlarge",
    "vcpuNum": 8
   },
   {
    "_defaultOrder": 15,
    "_isFastLaunch": false,
    "category": "General purpose",
    "gpuNum": 0,
    "hideHardwareSpecs": false,
    "memoryGiB": 64,
    "name": "ml.m5d.4xlarge",
    "vcpuNum": 16
   },
   {
    "_defaultOrder": 16,
    "_isFastLaunch": false,
    "category": "General purpose",
    "gpuNum": 0,
    "hideHardwareSpecs": false,
    "memoryGiB": 128,
    "name": "ml.m5d.8xlarge",
    "vcpuNum": 32
   },
   {
    "_defaultOrder": 17,
    "_isFastLaunch": false,
    "category": "General purpose",
    "gpuNum": 0,
    "hideHardwareSpecs": false,
    "memoryGiB": 192,
    "name": "ml.m5d.12xlarge",
    "vcpuNum": 48
   },
   {
    "_defaultOrder": 18,
    "_isFastLaunch": false,
    "category": "General purpose",
    "gpuNum": 0,
    "hideHardwareSpecs": false,
    "memoryGiB": 256,
    "name": "ml.m5d.16xlarge",
    "vcpuNum": 64
   },
   {
    "_defaultOrder": 19,
    "_isFastLaunch": false,
    "category": "General purpose",
    "gpuNum": 0,
    "hideHardwareSpecs": false,
    "memoryGiB": 384,
    "name": "ml.m5d.24xlarge",
    "vcpuNum": 96
   },
   {
    "_defaultOrder": 20,
    "_isFastLaunch": false,
    "category": "General purpose",
    "gpuNum": 0,
    "hideHardwareSpecs": true,
    "memoryGiB": 0,
    "name": "ml.geospatial.interactive",
    "supportedImageNames": [
     "sagemaker-geospatial-v1-0"
    ],
    "vcpuNum": 0
   },
   {
    "_defaultOrder": 21,
    "_isFastLaunch": true,
    "category": "Compute optimized",
    "gpuNum": 0,
    "hideHardwareSpecs": false,
    "memoryGiB": 4,
    "name": "ml.c5.large",
    "vcpuNum": 2
   },
   {
    "_defaultOrder": 22,
    "_isFastLaunch": false,
    "category": "Compute optimized",
    "gpuNum": 0,
    "hideHardwareSpecs": false,
    "memoryGiB": 8,
    "name": "ml.c5.xlarge",
    "vcpuNum": 4
   },
   {
    "_defaultOrder": 23,
    "_isFastLaunch": false,
    "category": "Compute optimized",
    "gpuNum": 0,
    "hideHardwareSpecs": false,
    "memoryGiB": 16,
    "name": "ml.c5.2xlarge",
    "vcpuNum": 8
   },
   {
    "_defaultOrder": 24,
    "_isFastLaunch": false,
    "category": "Compute optimized",
    "gpuNum": 0,
    "hideHardwareSpecs": false,
    "memoryGiB": 32,
    "name": "ml.c5.4xlarge",
    "vcpuNum": 16
   },
   {
    "_defaultOrder": 25,
    "_isFastLaunch": false,
    "category": "Compute optimized",
    "gpuNum": 0,
    "hideHardwareSpecs": false,
    "memoryGiB": 72,
    "name": "ml.c5.9xlarge",
    "vcpuNum": 36
   },
   {
    "_defaultOrder": 26,
    "_isFastLaunch": false,
    "category": "Compute optimized",
    "gpuNum": 0,
    "hideHardwareSpecs": false,
    "memoryGiB": 96,
    "name": "ml.c5.12xlarge",
    "vcpuNum": 48
   },
   {
    "_defaultOrder": 27,
    "_isFastLaunch": false,
    "category": "Compute optimized",
    "gpuNum": 0,
    "hideHardwareSpecs": false,
    "memoryGiB": 144,
    "name": "ml.c5.18xlarge",
    "vcpuNum": 72
   },
   {
    "_defaultOrder": 28,
    "_isFastLaunch": false,
    "category": "Compute optimized",
    "gpuNum": 0,
    "hideHardwareSpecs": false,
    "memoryGiB": 192,
    "name": "ml.c5.24xlarge",
    "vcpuNum": 96
   },
   {
    "_defaultOrder": 29,
    "_isFastLaunch": true,
    "category": "Accelerated computing",
    "gpuNum": 1,
    "hideHardwareSpecs": false,
    "memoryGiB": 16,
    "name": "ml.g4dn.xlarge",
    "vcpuNum": 4
   },
   {
    "_defaultOrder": 30,
    "_isFastLaunch": false,
    "category": "Accelerated computing",
    "gpuNum": 1,
    "hideHardwareSpecs": false,
    "memoryGiB": 32,
    "name": "ml.g4dn.2xlarge",
    "vcpuNum": 8
   },
   {
    "_defaultOrder": 31,
    "_isFastLaunch": false,
    "category": "Accelerated computing",
    "gpuNum": 1,
    "hideHardwareSpecs": false,
    "memoryGiB": 64,
    "name": "ml.g4dn.4xlarge",
    "vcpuNum": 16
   },
   {
    "_defaultOrder": 32,
    "_isFastLaunch": false,
    "category": "Accelerated computing",
    "gpuNum": 1,
    "hideHardwareSpecs": false,
    "memoryGiB": 128,
    "name": "ml.g4dn.8xlarge",
    "vcpuNum": 32
   },
   {
    "_defaultOrder": 33,
    "_isFastLaunch": false,
    "category": "Accelerated computing",
    "gpuNum": 4,
    "hideHardwareSpecs": false,
    "memoryGiB": 192,
    "name": "ml.g4dn.12xlarge",
    "vcpuNum": 48
   },
   {
    "_defaultOrder": 34,
    "_isFastLaunch": false,
    "category": "Accelerated computing",
    "gpuNum": 1,
    "hideHardwareSpecs": false,
    "memoryGiB": 256,
    "name": "ml.g4dn.16xlarge",
    "vcpuNum": 64
   },
   {
    "_defaultOrder": 35,
    "_isFastLaunch": false,
    "category": "Accelerated computing",
    "gpuNum": 1,
    "hideHardwareSpecs": false,
    "memoryGiB": 61,
    "name": "ml.p3.2xlarge",
    "vcpuNum": 8
   },
   {
    "_defaultOrder": 36,
    "_isFastLaunch": false,
    "category": "Accelerated computing",
    "gpuNum": 4,
    "hideHardwareSpecs": false,
    "memoryGiB": 244,
    "name": "ml.p3.8xlarge",
    "vcpuNum": 32
   },
   {
    "_defaultOrder": 37,
    "_isFastLaunch": false,
    "category": "Accelerated computing",
    "gpuNum": 8,
    "hideHardwareSpecs": false,
    "memoryGiB": 488,
    "name": "ml.p3.16xlarge",
    "vcpuNum": 64
   },
   {
    "_defaultOrder": 38,
    "_isFastLaunch": false,
    "category": "Accelerated computing",
    "gpuNum": 8,
    "hideHardwareSpecs": false,
    "memoryGiB": 768,
    "name": "ml.p3dn.24xlarge",
    "vcpuNum": 96
   },
   {
    "_defaultOrder": 39,
    "_isFastLaunch": false,
    "category": "Memory Optimized",
    "gpuNum": 0,
    "hideHardwareSpecs": false,
    "memoryGiB": 16,
    "name": "ml.r5.large",
    "vcpuNum": 2
   },
   {
    "_defaultOrder": 40,
    "_isFastLaunch": false,
    "category": "Memory Optimized",
    "gpuNum": 0,
    "hideHardwareSpecs": false,
    "memoryGiB": 32,
    "name": "ml.r5.xlarge",
    "vcpuNum": 4
   },
   {
    "_defaultOrder": 41,
    "_isFastLaunch": false,
    "category": "Memory Optimized",
    "gpuNum": 0,
    "hideHardwareSpecs": false,
    "memoryGiB": 64,
    "name": "ml.r5.2xlarge",
    "vcpuNum": 8
   },
   {
    "_defaultOrder": 42,
    "_isFastLaunch": false,
    "category": "Memory Optimized",
    "gpuNum": 0,
    "hideHardwareSpecs": false,
    "memoryGiB": 128,
    "name": "ml.r5.4xlarge",
    "vcpuNum": 16
   },
   {
    "_defaultOrder": 43,
    "_isFastLaunch": false,
    "category": "Memory Optimized",
    "gpuNum": 0,
    "hideHardwareSpecs": false,
    "memoryGiB": 256,
    "name": "ml.r5.8xlarge",
    "vcpuNum": 32
   },
   {
    "_defaultOrder": 44,
    "_isFastLaunch": false,
    "category": "Memory Optimized",
    "gpuNum": 0,
    "hideHardwareSpecs": false,
    "memoryGiB": 384,
    "name": "ml.r5.12xlarge",
    "vcpuNum": 48
   },
   {
    "_defaultOrder": 45,
    "_isFastLaunch": false,
    "category": "Memory Optimized",
    "gpuNum": 0,
    "hideHardwareSpecs": false,
    "memoryGiB": 512,
    "name": "ml.r5.16xlarge",
    "vcpuNum": 64
   },
   {
    "_defaultOrder": 46,
    "_isFastLaunch": false,
    "category": "Memory Optimized",
    "gpuNum": 0,
    "hideHardwareSpecs": false,
    "memoryGiB": 768,
    "name": "ml.r5.24xlarge",
    "vcpuNum": 96
   },
   {
    "_defaultOrder": 47,
    "_isFastLaunch": false,
    "category": "Accelerated computing",
    "gpuNum": 1,
    "hideHardwareSpecs": false,
    "memoryGiB": 16,
    "name": "ml.g5.xlarge",
    "vcpuNum": 4
   },
   {
    "_defaultOrder": 48,
    "_isFastLaunch": false,
    "category": "Accelerated computing",
    "gpuNum": 1,
    "hideHardwareSpecs": false,
    "memoryGiB": 32,
    "name": "ml.g5.2xlarge",
    "vcpuNum": 8
   },
   {
    "_defaultOrder": 49,
    "_isFastLaunch": false,
    "category": "Accelerated computing",
    "gpuNum": 1,
    "hideHardwareSpecs": false,
    "memoryGiB": 64,
    "name": "ml.g5.4xlarge",
    "vcpuNum": 16
   },
   {
    "_defaultOrder": 50,
    "_isFastLaunch": false,
    "category": "Accelerated computing",
    "gpuNum": 1,
    "hideHardwareSpecs": false,
    "memoryGiB": 128,
    "name": "ml.g5.8xlarge",
    "vcpuNum": 32
   },
   {
    "_defaultOrder": 51,
    "_isFastLaunch": false,
    "category": "Accelerated computing",
    "gpuNum": 1,
    "hideHardwareSpecs": false,
    "memoryGiB": 256,
    "name": "ml.g5.16xlarge",
    "vcpuNum": 64
   },
   {
    "_defaultOrder": 52,
    "_isFastLaunch": false,
    "category": "Accelerated computing",
    "gpuNum": 4,
    "hideHardwareSpecs": false,
    "memoryGiB": 192,
    "name": "ml.g5.12xlarge",
    "vcpuNum": 48
   },
   {
    "_defaultOrder": 53,
    "_isFastLaunch": false,
    "category": "Accelerated computing",
    "gpuNum": 4,
    "hideHardwareSpecs": false,
    "memoryGiB": 384,
    "name": "ml.g5.24xlarge",
    "vcpuNum": 96
   },
   {
    "_defaultOrder": 54,
    "_isFastLaunch": false,
    "category": "Accelerated computing",
    "gpuNum": 8,
    "hideHardwareSpecs": false,
    "memoryGiB": 768,
    "name": "ml.g5.48xlarge",
    "vcpuNum": 192
   },
   {
    "_defaultOrder": 55,
    "_isFastLaunch": false,
    "category": "Accelerated computing",
    "gpuNum": 8,
    "hideHardwareSpecs": false,
    "memoryGiB": 1152,
    "name": "ml.p4d.24xlarge",
    "vcpuNum": 96
   },
   {
    "_defaultOrder": 56,
    "_isFastLaunch": false,
    "category": "Accelerated computing",
    "gpuNum": 8,
    "hideHardwareSpecs": false,
    "memoryGiB": 1152,
    "name": "ml.p4de.24xlarge",
    "vcpuNum": 96
   }
  ],
  "instance_type": "ml.t3.medium",
  "kernelspec": {
   "display_name": "Python [conda env:base] *",
   "language": "python",
   "name": "conda-base-py"
  },
  "language_info": {
   "codemirror_mode": {
    "name": "ipython",
    "version": 3
   },
   "file_extension": ".py",
   "mimetype": "text/x-python",
   "name": "python",
   "nbconvert_exporter": "python",
   "pygments_lexer": "ipython3",
   "version": "3.10.11"
  }
 },
 "nbformat": 4,
 "nbformat_minor": 5
}
