{
  "cells": [
    {
      "cell_type": "markdown",
      "source": [
        "# Pytket Extensions\n",
        "\n"
      ],
      "metadata": {
        "tags": []
      },
      "id": "0aaa2ecf-4c02-49bc-83b7-dce6d7b71b1f"
    },
    {
      "cell_type": "markdown",
      "source": [
        "Pytket Extensionは様々な企業が開発している量子回路プログラミング言語、量子デバイス、量子シミュレーターと連携することを可能にする拡張機能です。\n",
        "Azure QuantumとAmazon Braketといった、クラウド経由で追加の量子デバイスやシミュレータにアクセスすることも可能です。\n",
        "\n",
        "pytketのBackendは、量子回路を処理するためのQPU（Quantum Processing Unit）または量子シミュレータへの接続を表します。\n",
        "pytketで利用可能なBackendの種類は、以下の通りです。\n",
        "- QPUs: ショットベースの結果を返す量子コンピュータです。例：QuantinuumBackend.\n",
        "\n",
        "- クラウドバックエンド: pytketがクラウドプラットフォームと連携し、追加のQPUやシミュレータにアクセスできるようにするバックエンドです。例：AzureBackend.\n",
        "\n",
        "- エミュレータ: これらは古典コンピュータで量子回路をシミュレートし、ショットベースの結果を生成します。エミュレータはノイズ・モデルを使用し、実際のQPUをエミュレートするための接続性制約を持つ場合もあります。例：IBMQEmulatorBackend.\n",
        "\n",
        "- ステートベクターシミュレータ: 回路によって準備された純粋な量子状態を計算し、ベクトル/ndarrayを返します。例：ForestStateBackend, AerStateBackend.\n",
        "\n",
        "- ユニタリーシミュレータ: ユニタリーシミュレータは、回路によって適用されるユニタリーオペレータを計算します。ユニタリー行列/ndarrayが返されます。例：AerUnitaryBackend.\n",
        "\n",
        "- 密度行列シミュレータ: これらのシミュレータは、回路によって準備される密度行列を計算します。例：CirqDensityMatrixSampleBackend 。\n",
        "\n",
        "- その他の特殊なシミュレータ: 特定のタイプの回路をシミュレートするための拡張機能があります。例：SimplexBackendはClifford回路をシミュレートするために設計されています。\n"
      ],
      "metadata": {},
      "id": "1fb660fb-6691-4b9d-9014-d8e450197d0b"
    },
    {
      "cell_type": "markdown",
      "source": [
        "ここでは\n",
        "- 量子回路の変換\n",
        "- 量子回路を量子デバイスや量子シミュレータで実行"
      ],
      "metadata": {},
      "id": "8b436552-8f3c-4aa6-9c45-8d61547c6eed"
    },
    {
      "cell_type": "markdown",
      "source": [
        "### TKETとは (再掲)\n",
        "- Quantum Software Development Kit\n",
        "- C++で実装\n",
        "- pythonモジュール　`pytket`で利用可能\n",
        "- 最適化コンパイラ：　ユーザーフレンドリーな回路→量子デバイスで実行可能な回路に変換可能\n",
        "    - Language-agnostic (多くの量子プログラミングフレームワーク(qiskit, Cirq, etc)をサポート)\n",
        "    - Retagetable (多くの量子デバイス(IBM Quantum, Quantinuum, AWS Braket, etc)をサポート)\n",
        "    - Circuit Optimisation (量子計算時に生じるデバイスエラーの影響を最小化。デバイス依存＆デバイス非依存のものが実装)\n"
      ],
      "metadata": {
        "tags": []
      },
      "id": "ce233564-9980-4705-9608-e1655abb26ee"
    },
    {
      "cell_type": "markdown",
      "source": [
        "#### 参照\n",
        "- [pytket ドキュメント](https://cqcl.github.io/tket/pytket/api/index.html)\n",
        "- [pytket ユーザーマニュアル](https://cqcl.github.io/pytket/manual/index.html)\n",
        "- [t|ket⟩ : A Retargetable Compiler for NISQ Devices](https://arxiv.org/abs/2003.10611)"
      ],
      "metadata": {},
      "id": "1299850a-c929-4b9c-8bfd-e0e5802d8169"
    },
    {
      "cell_type": "markdown",
      "source": [
        "#### 今回必要となる python パッケージ\n",
        "Python 3.9.17で動作確認をしています。\n",
        "\n",
        "|  パッケージ （version） |  概要  |\n",
        "| :---- | :---- |\n",
        "|  pytket  |  tketを利用するためのpython モジュール  ( available for python3.7 or higher )|\n",
        "|  pytket-qiskit  |  qiskitを利用するためのpytket-extension  |\n",
        "|  pytket-qsharp  |  Azure Quantumを利用するためのpytket-extension  |\n"
      ],
      "metadata": {
        "tags": []
      },
      "id": "8d467bba-26b8-4dad-a38d-07ba0d009d93"
    },
    {
      "cell_type": "markdown",
      "source": [
        "環境にインストールされていない場合は、以下のセルの＃を取り除き、インストールしてください。"
      ],
      "metadata": {},
      "id": "a14dc339-ffb5-4974-8ca3-da333e8976c1"
    },
    {
      "cell_type": "code",
      "source": [
        "#!pip install pytket\n",
        "#!pip install pytket-qiskit\n",
        "#!pip install pytket-qsharp"
      ],
      "outputs": [],
      "execution_count": null,
      "metadata": {},
      "id": "2c9a94b8-5889-4dd9-854a-6d426dfe264c"
    },
    {
      "cell_type": "markdown",
      "source": [
        "## 1. 量子回路の変換\n",
        "pytketでは\n",
        "- qiskitで記述した量子回路(`qiskit.QuantumCircuit`)からtketの量子回路のクラスに変換が可能\n",
        "- tketで記述した量子回路からqiskitの量子回路(`qiskit.QuantumCircuit`)のクラスに変換が可能\n",
        "- tketで記述した量子回路と他の量子プログラミング言語での量子回路の交換が可能\n",
        "\n",
        "参照：[pytket-extensions](https://cqcl.github.io/pytket-extensions/api/index.html) "
      ],
      "metadata": {
        "tags": []
      },
      "id": "2167844c-b73d-4123-a288-f0c190f4d136"
    },
    {
      "cell_type": "markdown",
      "source": [
        "### 1-1. `qiskit`の量子回路から`tket`の量子回路に変換"
      ],
      "metadata": {},
      "id": "d070606a-176c-4189-9037-043ecde06f32"
    },
    {
      "cell_type": "code",
      "source": [
        "from qiskit import QuantumCircuit\n",
        "\n",
        "qs_bell = QuantumCircuit(2)\n",
        "qs_bell.h(0)\n",
        "qs_bell.cx(0,1)\n",
        "qs_bell.measure_all()\n",
        "\n",
        "qs_bell.draw()"
      ],
      "outputs": [],
      "execution_count": null,
      "metadata": {},
      "id": "f715fe8f-35de-4d5b-a56c-a10c69716fc2"
    },
    {
      "cell_type": "code",
      "source": [
        "from pytket.extensions.qiskit import qiskit_to_tk"
      ],
      "outputs": [],
      "execution_count": null,
      "metadata": {},
      "id": "f406bc2c-5cee-4964-a285-67d95849bded"
    },
    {
      "cell_type": "code",
      "source": [
        "bell2 = qiskit_to_tk(qs_bell)\n",
        "bell2"
      ],
      "outputs": [],
      "execution_count": null,
      "metadata": {},
      "id": "6bbcd73e-23d0-4cca-93c3-19f7ac760eb4"
    },
    {
      "cell_type": "code",
      "source": [
        "from pytket.circuit.display import render_circuit_jupyter\n",
        "render_circuit_jupyter(bell2)"
      ],
      "outputs": [],
      "execution_count": null,
      "metadata": {},
      "id": "52693721-2335-445e-84ac-f438a5913298"
    },
    {
      "cell_type": "markdown",
      "source": [
        "### 1-2. `tket`の量子回路から`qiskit`の量子回路に変換"
      ],
      "metadata": {},
      "id": "20acef39-e2a2-4fcd-9630-d58df584459b"
    },
    {
      "cell_type": "code",
      "source": [
        "from pytket import Circuit\n",
        "from pytket.circuit.display import render_circuit_jupyter\n",
        "\n",
        "bell = Circuit(2)\n",
        "bell.H(0).CX(0,1)\n",
        "bell.measure_all()\n",
        "\n",
        "render_circuit_jupyter(bell)"
      ],
      "outputs": [],
      "execution_count": null,
      "metadata": {},
      "id": "3d52c485-1829-4ce1-be62-347eb56d7990"
    },
    {
      "cell_type": "code",
      "source": [
        "from pytket.extensions.qiskit import tk_to_qiskit"
      ],
      "outputs": [],
      "execution_count": null,
      "metadata": {},
      "id": "8d66b533-edd7-4f80-9378-1a772494a390"
    },
    {
      "cell_type": "code",
      "source": [
        "qs_bell2 = tk_to_qiskit(bell)\n",
        "qs_bell2"
      ],
      "outputs": [],
      "execution_count": null,
      "metadata": {},
      "id": "60c3265f-2b1e-47d9-9809-756376974044"
    },
    {
      "cell_type": "code",
      "source": [
        "qs_bell2.draw()"
      ],
      "outputs": [],
      "execution_count": null,
      "metadata": {},
      "id": "76068e3f-301e-455c-8093-e40dfef3bdd3"
    },
    {
      "cell_type": "markdown",
      "source": [
        "## 2. 量子回路を量子デバイスや量子シミュレータで実行"
      ],
      "metadata": {},
      "id": "a94a881b-97a3-4b1c-b95f-042bd6918eab"
    },
    {
      "cell_type": "markdown",
      "source": [
        "#### 下記のスクリプトのAzure Quantumの箇所では<span style=\"color: red; \">有料の操作</span>となりますので、ご注意ください。"
      ],
      "metadata": {
        "tags": []
      },
      "id": "c7d7dbef-8974-4de9-8188-b2b002790b65"
    },
    {
      "cell_type": "markdown",
      "source": [
        "#### 2-1. pytket-qiskitを利用して、IBM Quantumのシミュレータや実機にジョブを実行"
      ],
      "metadata": {
        "tags": []
      },
      "id": "3695e954-ecf5-44b4-a388-5d313157ea27"
    },
    {
      "cell_type": "markdown",
      "source": [
        "#### a. IBM Quantum へのアクセス設定"
      ],
      "metadata": {},
      "id": "cde7c9d1-2522-48c0-837c-b2bf6a2e9059"
    },
    {
      "cell_type": "code",
      "source": [
        "ibm_token = \"your ibm token\""
      ],
      "outputs": [],
      "execution_count": null,
      "metadata": {},
      "id": "b5056426-876c-4a8c-abc5-68cd60538e2f"
    },
    {
      "cell_type": "code",
      "source": [
        "from qiskit_ibm_provider import IBMProvider\n",
        "IBMProvider.save_account(token=ibm_token, overwrite=True)"
      ],
      "outputs": [],
      "execution_count": null,
      "metadata": {
        "jupyter": {
          "source_hidden": false,
          "outputs_hidden": false
        },
        "nteract": {
          "transient": {
            "deleting": false
          }
        }
      },
      "id": "1fae25bf-ef98-429b-8fce-de54c5041072"
    },
    {
      "cell_type": "code",
      "source": [
        "from pytket.extensions.qiskit.backends.config import set_ibmq_config\n",
        "set_ibmq_config(ibmq_api_token=ibm_token)"
      ],
      "outputs": [],
      "execution_count": null,
      "metadata": {
        "jupyter": {
          "source_hidden": false,
          "outputs_hidden": false
        },
        "nteract": {
          "transient": {
            "deleting": false
          }
        }
      },
      "id": "53b906ac-05a3-4b1e-9dda-e7b2fd30f5dd"
    },
    {
      "cell_type": "code",
      "source": [
        "from pytket.extensions.qiskit import IBMQBackend"
      ],
      "outputs": [],
      "execution_count": null,
      "metadata": {
        "jupyter": {
          "source_hidden": false,
          "outputs_hidden": false
        },
        "nteract": {
          "transient": {
            "deleting": false
          }
        }
      },
      "id": "27c679b3-3c40-476a-a89e-c636f3e815b0"
    },
    {
      "cell_type": "code",
      "source": [
        "device = IBMQBackend.available_devices()"
      ],
      "outputs": [],
      "execution_count": null,
      "metadata": {},
      "id": "99f89f1a-9b0a-46c7-ae91-41087b9daf7f"
    },
    {
      "cell_type": "code",
      "source": [
        "[dev.device_name for dev in device]"
      ],
      "outputs": [],
      "execution_count": null,
      "metadata": {
        "jupyter": {
          "source_hidden": false,
          "outputs_hidden": false
        },
        "nteract": {
          "transient": {
            "deleting": false
          }
        }
      },
      "id": "5fd94b7e-35b4-47b2-929a-085d6f8c401a"
    },
    {
      "cell_type": "markdown",
      "source": [
        "※注意 IBMから以下の発表があった  \n",
        "９月２６日周辺：以下のデバイスは引退を予定  \n",
        "ibmq_lima, ibmq_belem, ibmq_quito, ibmq_manila, ibmq_jakarta  \n",
        "１０月２８日周辺：以下のデバイスは引退を予定  \n",
        "ibm_perth, ibm_lagos, ibm_nairobi"
      ],
      "metadata": {
        "nteract": {
          "transient": {
            "deleting": false
          }
        }
      },
      "id": "b0a5cfbe-4587-4c80-ba36-025fb9b8ce20"
    },
    {
      "cell_type": "markdown",
      "source": [
        "#### b. backendの選択"
      ],
      "metadata": {},
      "id": "7aaf866c-d42d-4cec-9f57-602d5e7cfa51"
    },
    {
      "cell_type": "code",
      "source": [
        "from pytket.extensions.qiskit import IBMQBackend, IBMQEmulatorBackend, AerBackend"
      ],
      "outputs": [],
      "execution_count": null,
      "metadata": {
        "jupyter": {
          "source_hidden": false,
          "outputs_hidden": false
        },
        "nteract": {
          "transient": {
            "deleting": false
          }
        }
      },
      "id": "608318ab-b413-4f52-a8f1-df658860b39d"
    },
    {
      "cell_type": "code",
      "source": [
        "# ibm_backend = AerBackend()\n",
        "# ibm_backend = IBMQBackend(\"ibmq_lima\")\n",
        "# ibm_backend = IBMQBackend(\"ibmq_qasm_simulator\")\n",
        "# AerBackend to emulate the behaviour of IBMQBackend. Requires a valid IBMQ account.\n",
        "ibm_backend = IBMQEmulatorBackend(\"ibmq_lima\")"
      ],
      "outputs": [],
      "execution_count": null,
      "metadata": {},
      "id": "56983d21-8f95-46bb-81a8-49b06b31046b"
    },
    {
      "cell_type": "markdown",
      "source": [
        "#### c. backendのゲートセットに書き換える\n",
        "`Backend.get_compiled_circuit(Circuit)`"
      ],
      "metadata": {},
      "id": "3e639384-7c39-4c28-ac80-d3d1a5c8842e"
    },
    {
      "cell_type": "code",
      "source": [
        "from pytket import Circuit\n",
        "from pytket.circuit.display import render_circuit_jupyter"
      ],
      "outputs": [],
      "execution_count": null,
      "metadata": {
        "jupyter": {
          "source_hidden": false,
          "outputs_hidden": false
        },
        "nteract": {
          "transient": {
            "deleting": false
          }
        }
      },
      "id": "267147a4-a4b0-4662-b9ba-198f16eb76f6"
    },
    {
      "cell_type": "code",
      "source": [
        "bell = Circuit(2)\n",
        "bell.H(0).CX(0,1)\n",
        "bell.measure_all()\n",
        "render_circuit_jupyter(bell)\n",
        "\n",
        "ibm_bell = ibm_backend.get_compiled_circuit(bell)\n",
        "render_circuit_jupyter(ibm_bell)"
      ],
      "outputs": [],
      "execution_count": null,
      "metadata": {},
      "id": "496e7f3f-e3cc-4ca2-94d1-98f609a6c553"
    },
    {
      "cell_type": "markdown",
      "source": [
        "#### d. 選択したbackendに量子回路を送信して実行させる"
      ],
      "metadata": {},
      "id": "c1179d50-4d16-4e22-a8d1-86cf572ed88c"
    },
    {
      "cell_type": "code",
      "source": [
        "ibm_handle = ibm_backend.process_circuit(ibm_bell, n_shots =1000)"
      ],
      "outputs": [],
      "execution_count": null,
      "metadata": {},
      "id": "bf138731-c79e-4f10-aefa-8c06e9c761cd"
    },
    {
      "cell_type": "code",
      "source": [
        "ibm_result = ibm_backend.get_result(ibm_handle)"
      ],
      "outputs": [],
      "execution_count": null,
      "metadata": {
        "tags": []
      },
      "id": "aeedd2be-e2a6-4a5b-88fd-a56f9cf58e2b"
    },
    {
      "cell_type": "code",
      "source": [
        "#ibm_backend.cancel(ibm_handle)"
      ],
      "outputs": [],
      "execution_count": null,
      "metadata": {},
      "id": "53117644-5260-416d-86b8-14735db01b1a"
    },
    {
      "cell_type": "markdown",
      "source": [
        "#### e. 結果の表示"
      ],
      "metadata": {},
      "id": "d8774fdf-a669-462e-8ad2-f6bf4386f7dd"
    },
    {
      "cell_type": "code",
      "source": [
        "from qiskit.visualization import plot_histogram\n",
        "plot_histogram(ibm_result.get_counts())"
      ],
      "outputs": [],
      "execution_count": null,
      "metadata": {},
      "id": "40309632-94cf-42ea-99df-d57a395ace7f"
    },
    {
      "cell_type": "markdown",
      "source": [
        "### 2-2. pytket-qsharpを利用して、Azure Quantumにあるシミュレータや実機にジョブを実行"
      ],
      "metadata": {
        "nteract": {
          "transient": {
            "deleting": false
          }
        }
      },
      "id": "aa7b82d2-c013-4f48-a7ac-49391ee2069c"
    },
    {
      "cell_type": "code",
      "source": [
        "resource_id = \"your resource id\"\n",
        "location = \"your location\""
      ],
      "outputs": [],
      "execution_count": null,
      "metadata": {
        "jupyter": {
          "source_hidden": false,
          "outputs_hidden": false
        },
        "nteract": {
          "transient": {
            "deleting": false
          }
        }
      },
      "id": "4adb753e-62d7-4926-9478-dc3ae6c9085f"
    },
    {
      "cell_type": "code",
      "source": [
        "# Azure Qauntum上の量子デバイスまたはシミュレータを利用する\n",
        "from pytket.extensions.qsharp import AzureBackend, QsharpSimulatorBackend"
      ],
      "outputs": [],
      "execution_count": null,
      "metadata": {
        "jupyter": {
          "source_hidden": false,
          "outputs_hidden": false
        },
        "nteract": {
          "transient": {
            "deleting": false
          }
        }
      },
      "id": "6309ceee-6d73-4511-a89d-2e55b7170c7a"
    },
    {
      "cell_type": "code",
      "source": [
        "#無料のQsharpSimulator\n",
        "azure_backend = QsharpSimulatorBackend()"
      ],
      "outputs": [],
      "execution_count": null,
      "metadata": {
        "jupyter": {
          "source_hidden": false,
          "outputs_hidden": false
        },
        "nteract": {
          "transient": {
            "deleting": false
          }
        }
      },
      "id": "3d2dfed2-b9fa-4770-a86b-e357fc88a478"
    },
    {
      "cell_type": "code",
      "source": [
        "# Quantinuum H1 device\n",
        "# azure_backend = AzureBackend(target_name='quantinuum.qpu.h1-1',resourceId=resource_id,location = location)\n",
        "# azure_backend = AzureBackend(target_name='quantinuum.qpu.h1-2',resourceId=resource_id,location = location)\n",
        "# Quantinuum H1 emulator\n",
        "# azure_backend = AzureBackend(target_name='quantinuum.sim.h1-1e',resourceId=resource_id,location = location)\n",
        "# azure_backend = AzureBackend(target_name='quantinuum.sim.h1-2e',resourceId=resource_id,location = location)\n",
        "# Quantinuum H1 Syntax Checker\n",
        "# azure_backend = AzureBackend(target_name='quantinuum.sim.h1-1sc',resourceId=resource_id,location = location)\n",
        "# azure_backend = AzureBackend(target_name='quantinuum.sim.h1-2sc',resourceId=resource_id,location = location)\n",
        "\n",
        "# IonQ device\"\n",
        "# azure_backend = AzureBackend(target_name='ionq.qpu',resourceId=resource_id,location = location)\n",
        "# azure_backend = AzureBackend(target_name='ionq.qpu.aria-1',resourceId=resource_id,location = location)\n",
        "# IonQ simulator\n",
        "# azure_backend = AzureBackend(target_name='ionq.simulator',resourceId=resource_id,location = location)"
      ],
      "outputs": [],
      "execution_count": null,
      "metadata": {
        "jupyter": {
          "source_hidden": false,
          "outputs_hidden": false
        },
        "nteract": {
          "transient": {
            "deleting": false
          }
        }
      },
      "id": "7041ea84-47af-48dd-99dd-8d68c2bd19d0"
    },
    {
      "cell_type": "code",
      "source": [
        "from pytket import Circuit\n",
        "from pytket.circuit.display import render_circuit_jupyter\n",
        "bell = Circuit(2)\n",
        "bell.H(0).CX(0,1)\n",
        "bell.measure_all()\n",
        "render_circuit_jupyter(bell)"
      ],
      "outputs": [],
      "execution_count": null,
      "metadata": {
        "jupyter": {
          "source_hidden": false,
          "outputs_hidden": false
        },
        "nteract": {
          "transient": {
            "deleting": false
          }
        }
      },
      "id": "99e55eec-17bb-4273-b314-1e440dbd9a9c"
    },
    {
      "cell_type": "code",
      "source": [
        "azure_bell = azure_backend.get_compiled_circuit(bell)\n",
        "render_circuit_jupyter(azure_bell)"
      ],
      "outputs": [],
      "execution_count": null,
      "metadata": {
        "jupyter": {
          "source_hidden": false,
          "outputs_hidden": false
        },
        "nteract": {
          "transient": {
            "deleting": false
          }
        }
      },
      "id": "8b55ca38-c0dc-4e71-af56-4f9b6ee1267c"
    },
    {
      "cell_type": "code",
      "source": [
        "result = azure_backend.run_circuit(azure_bell, n_shots=100)"
      ],
      "outputs": [],
      "execution_count": null,
      "metadata": {
        "jupyter": {
          "source_hidden": false,
          "outputs_hidden": false
        },
        "nteract": {
          "transient": {
            "deleting": false
          }
        }
      },
      "id": "9b96246b-2a37-44c1-834a-a60c18ab8acc"
    },
    {
      "cell_type": "code",
      "source": [
        "counts = result.get_counts()\n",
        "counts"
      ],
      "outputs": [],
      "execution_count": null,
      "metadata": {
        "jupyter": {
          "source_hidden": false,
          "outputs_hidden": false
        },
        "nteract": {
          "transient": {
            "deleting": false
          }
        }
      },
      "id": "6b60248b-b409-4d91-b400-734d636f47da"
    },
    {
      "cell_type": "code",
      "source": [],
      "outputs": [],
      "execution_count": null,
      "metadata": {
        "jupyter": {
          "source_hidden": false,
          "outputs_hidden": false
        },
        "nteract": {
          "transient": {
            "deleting": false
          }
        }
      },
      "id": "f473d8f3-9309-4daf-9d26-6a197a067dac"
    }
  ],
  "metadata": {
    "instance_type": "ml.t3.medium",
    "kernelspec": {
      "name": "python3",
      "language": "python",
      "display_name": "Python 3 (ipykernel)"
    },
    "language_info": {
      "name": "python",
      "version": "3.9.17",
      "mimetype": "text/x-python",
      "codemirror_mode": {
        "name": "ipython",
        "version": 3
      },
      "pygments_lexer": "ipython3",
      "nbconvert_exporter": "python",
      "file_extension": ".py"
    },
    "kernel_info": {
      "name": "python3"
    },
    "nteract": {
      "version": "nteract-front-end@1.0.0"
    }
  },
  "nbformat": 4,
  "nbformat_minor": 5
}