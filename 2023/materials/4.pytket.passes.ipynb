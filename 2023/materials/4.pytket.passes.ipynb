{
  "cells": [
    {
      "cell_type": "markdown",
      "source": [
        "# 量子回路最適化"
      ],
      "metadata": {},
      "id": "64687505"
    },
    {
      "cell_type": "markdown",
      "source": [
        "## 5. 量子回路の最適化\n",
        "\n",
        "これまで、`PauliSimp`関数や`get_compiled_circuit`の紹介を行ったが、tketにはその他にも多くの量子回路を最適化するための機能が備わっている。\n",
        "\n",
        "ここでは\n",
        "### 5-1. 事前に定義されている量子回路の最適化\n",
        "a. 非量子デバイス依存の量子回路の最適化:\n",
        "    `FullPeepholeOptimise` \n",
        "    `PauliSquash` \n",
        "   \n",
        "b. 量子デバイス依存の量子回路の最適化:\n",
        "    `get_compiled_circuit`のオプション\n",
        "\n",
        "### 5-2. いくつかの量子回路の最適化関数や変換\n",
        "a. `CliffordSimp`,\n",
        "\n",
        "b. `RemoveRedundancies`, \n",
        "\n",
        "c. `CommuteThroughMultis`, \n",
        "\n",
        "d. `EulerAngleReduction`,\n",
        "\n",
        "### 5-3. 量子回路の最適化のカスタマイズ (オプション)\n",
        "- `SequencePass`\n",
        "\n",
        "について紹介する。\n",
        "\n",
        "#### 参照\n",
        "- [pytket ドキュメント](https://cqcl.github.io/tket/pytket/api/index.html)\n",
        "- [pytket ユーザーマニュアル](https://cqcl.github.io/pytket/manual/index.html)\n"
      ],
      "metadata": {},
      "id": "08ad365f"
    },
    {
      "cell_type": "markdown",
      "source": [
        "### 5-0. 量子回路の準備\n",
        "ランダムなゲートの選択によって量子回路を生成し、回路の深さとCXの深さを数える。"
      ],
      "metadata": {},
      "id": "eb05b891"
    },
    {
      "cell_type": "code",
      "source": [
        "from pytket import Circuit\n",
        "from pytket.circuit.display import render_circuit_jupyter\n",
        "from pytket.circuit import OpType\n",
        "from pytket.pauli import Pauli\n",
        "from pytket.circuit import PauliExpBox, fresh_symbol, OpType\n",
        "from pytket.passes import DecomposeBoxes\n",
        "box = PauliExpBox([Pauli.I, Pauli.Z, Pauli.X, Pauli.Y], fresh_symbol('tm'))\n",
        "from pytket.utils import Graph\n",
        "import numpy as np"
      ],
      "outputs": [],
      "execution_count": null,
      "metadata": {},
      "id": "04ec7427"
    },
    {
      "cell_type": "code",
      "source": [
        "def random_circuit(\n",
        "    n_qubits, depth, max_ops=3, measure=False, seed=None\n",
        "):\n",
        "    if max_ops < 1 or max_ops > 3:\n",
        "        raise print(\"max_ops must be between 1 and 3\")\n",
        "    op1types = [OpType.X, OpType.Y, OpType.Z, OpType.H, OpType.S, OpType.Sdg, OpType.T, OpType.Tdg, OpType.V, OpType.Vdg]\n",
        "    op2types = [OpType.CX, OpType.CY, OpType.CZ, OpType.CV, OpType.CVdg, OpType.CH]\n",
        "    op3types = [OpType.CCX]\n",
        "    circ = Circuit(n_qubits)\n",
        "    if seed is None:\n",
        "        rng = np.random.default_rng()\n",
        "    else:\n",
        "        rng = np.random.default_rng(seed)\n",
        "    for _ in range(depth):\n",
        "        choose_qubits = list(range(n_qubits))\n",
        "        rng.shuffle(choose_qubits)\n",
        "        while choose_qubits:\n",
        "            max_possible = min(len(choose_qubits), max_ops)\n",
        "            n_ops = rng.choice(range(max_possible)) + 1\n",
        "            ops = [choose_qubits.pop() for _ in range(n_ops)]\n",
        "            if n_ops == 1:\n",
        "                ope = rng.choice(op1types)\n",
        "            elif n_ops == 2:\n",
        "                ope = rng.choice(op2types)\n",
        "            elif n_ops == 3:\n",
        "                ope = rng.choice(op3types)\n",
        "            circ.add_gate(ope, ops)\n",
        "    if measure:\n",
        "        circ.measure_all()\n",
        "    return circ\n",
        "\n",
        "def random_circuit_para(\n",
        "    n_qubits, depth, max_ops=3, measure=False, seed=None\n",
        "):\n",
        "    if max_ops < 1 or max_ops > 3:\n",
        "        raise print(\"max_ops must be between 1 and 3\")\n",
        "    op1types = [OpType.X, OpType.Y, OpType.Z, OpType.H, OpType.S, OpType.Sdg, OpType.T, OpType.Tdg, OpType.V, OpType.Vdg, OpType.Rx, OpType.Ry, OpType.Rz]\n",
        "    op2types = [OpType.XXPhase, OpType.YYPhase, OpType.ZZPhase, OpType.CX, OpType.CY, OpType.CZ, OpType.CV, OpType.CVdg, OpType.CH, OpType.CRx, OpType.CRy, OpType.CRz]\n",
        "    op3types = [OpType.CCX]\n",
        "    para1 = [OpType.Rx, OpType.Ry, OpType.Rz, OpType.CRx, OpType.CRy, OpType.CRz, OpType.XXPhase, OpType.YYPhase, OpType.ZZPhase]\n",
        "    circ = Circuit(n_qubits)\n",
        "    if seed is None:\n",
        "        rng = np.random.default_rng()\n",
        "    else:\n",
        "        rng = np.random.default_rng(seed)\n",
        "    for _ in range(depth):\n",
        "        choose_qubits = list(range(n_qubits))\n",
        "        rng.shuffle(choose_qubits)\n",
        "        while choose_qubits:\n",
        "            max_possible = min(len(choose_qubits), max_ops)\n",
        "            n_ops = rng.choice(range(max_possible)) + 1\n",
        "            ops = [choose_qubits.pop() for _ in range(n_ops)]\n",
        "            if n_ops == 1:\n",
        "                ope = rng.choice(op1types)\n",
        "            elif n_ops == 2:\n",
        "                ope = rng.choice(op2types)\n",
        "            elif n_ops == 3:\n",
        "                ope = rng.choice(op3types)\n",
        "            if ope in para1:\n",
        "                circ.add_gate(ope, rng.uniform(0, 2 * np.pi), ops)\n",
        "            else:\n",
        "                circ.add_gate(ope, ops)\n",
        "    if measure:\n",
        "        circ.measure_all()\n",
        "    return circ\n",
        "\n",
        "def get_random_pauli_gadgets(n_qubits, n_pauli_gadgets, max_entangle):\n",
        "    paulis = [Pauli.I, Pauli.X, Pauli.Y, Pauli.Z]\n",
        "    circ = Circuit(n_qubits)\n",
        "    for i in range(n_pauli_gadgets):\n",
        "        ls_paulis = [np.random.choice(paulis) for k in range(max_entangle)]\n",
        "        if ls_paulis.count(Pauli.Y) % 2 == 0:\n",
        "            continue\n",
        "        if len(ls_paulis) - ls_paulis.count(Pauli.I) <= 1:\n",
        "            continue\n",
        "        qubits = np.random.choice(\n",
        "            [i for i in range(n_qubits)], size=max_entangle, replace=False\n",
        "        )\n",
        "        box = PauliExpBox(ls_paulis, fresh_symbol('a'))\n",
        "        circ.add_pauliexpbox(box, sorted(qubits))\n",
        "    DecomposeBoxes().apply(circ)\n",
        "    return circ"
      ],
      "outputs": [],
      "execution_count": null,
      "metadata": {},
      "id": "3d65d99e"
    },
    {
      "cell_type": "markdown",
      "source": [
        "### 深さ100のランダムな量子回路を生成"
      ],
      "metadata": {
        "tags": []
      },
      "id": "16ae5040"
    },
    {
      "cell_type": "code",
      "source": [
        "circ1 = random_circuit(n_qubits=2, depth=100, max_ops=1)\n",
        "circ2 = random_circuit(n_qubits=4, depth=100, max_ops=2)\n",
        "circ3 = random_circuit(n_qubits=4, depth=100, max_ops=3)\n",
        "print('Circuit depth: ', circ1.depth())\n",
        "print('Control depth: ', circ1.depth_by_type({OpType.CX, OpType.CY, OpType.CZ, OpType.CV, OpType.CVdg, OpType.CH}))\n",
        "render_circuit_jupyter(circ1)\n",
        "print('Circuit depth: ', circ2.depth())\n",
        "print('Control depth: ', circ2.depth_by_type({OpType.CX, OpType.CY, OpType.CZ, OpType.CV, OpType.CVdg, OpType.CH}))\n",
        "render_circuit_jupyter(circ2)\n",
        "print('Circuit depth: ', circ3.depth())\n",
        "print('Control depth: ', circ3.depth_by_type({OpType.CX, OpType.CY, OpType.CZ, OpType.CV, OpType.CVdg, OpType.CH}))\n",
        "print('CCX depth: ', circ3.depth_by_type(OpType.CCX))\n",
        "render_circuit_jupyter(circ3)"
      ],
      "outputs": [],
      "execution_count": null,
      "metadata": {},
      "id": "a8d65c1d"
    },
    {
      "cell_type": "markdown",
      "source": [
        "### 5-1. 事前に定義されている量子回路の最適化"
      ],
      "metadata": {},
      "id": "7c46fa4a"
    },
    {
      "cell_type": "markdown",
      "source": [
        "### a. 事前に定義されている量子回路の最適化(非量子デバイス依存): `FullPeepholeOptimise`\n",
        "`FullPeepholeOptimise`は`CliffordSimp`, `RemoveRedundancies`, `CommuteThroughMultis`, `KAKDecomposition`, `EulerAngleReduction`から構成されている量子回路最適化です。\n",
        "こちらは、量子デバイスが用意しているゲートセットやアーキテクチャー等を考慮せずに最適化されます。"
      ],
      "metadata": {},
      "id": "d6d1d1ff"
    },
    {
      "cell_type": "markdown",
      "source": [
        "3.1で、`PauliSimp` 関数を利用した時と同様にして、`FullPeepholeOptimise`を利用することができます。"
      ],
      "metadata": {},
      "id": "9c22fc4a"
    },
    {
      "cell_type": "code",
      "source": [
        "from pytket.passes import FullPeepholeOptimise\n",
        "circ1x=circ1.copy()\n",
        "FullPeepholeOptimise().apply(circ1x)\n",
        "print('Circuit depth: ', circ1x.depth())\n",
        "print('CX depth: ', circ1x.depth_by_type(OpType.CX))\n",
        "render_circuit_jupyter(circ1x)\n",
        "circ2x=circ2.copy()\n",
        "FullPeepholeOptimise().apply(circ2x)\n",
        "print('Circuit depth: ', circ2x.depth())\n",
        "print('CX depth: ', circ2x.depth_by_type(OpType.CX))\n",
        "render_circuit_jupyter(circ2x)\n",
        "circ3x=circ3.copy()\n",
        "FullPeepholeOptimise().apply(circ3x)\n",
        "print('Circuit depth: ', circ3x.depth())\n",
        "print('CX depth: ', circ3x.depth_by_type(OpType.CX))\n",
        "print('CCX depth: ', circ3x.depth_by_type(OpType.CCX))\n",
        "render_circuit_jupyter(circ3x)"
      ],
      "outputs": [],
      "execution_count": null,
      "metadata": {},
      "id": "bb3eedf8"
    },
    {
      "cell_type": "markdown",
      "source": [
        "ここで、$\\mathrm{TK1}(\\alpha,\\beta,\\gamma)$はオイラー角\n",
        "$$\n",
        "Rz(\\alpha)Rx(\\beta)Rz(\\gamma)\n",
        "$$\n",
        "を表す"
      ],
      "metadata": {},
      "id": "bcc32dec"
    },
    {
      "cell_type": "markdown",
      "source": [
        "### a. 事前に定義されている量子回路の最適化(非量子デバイス依存): `PauliSquash`\n",
        "`PauliSquash`=`PauliSimp`+`FullPeepholeOptimise`"
      ],
      "metadata": {},
      "id": "9a17bb95"
    },
    {
      "cell_type": "code",
      "source": [
        "circg = get_random_pauli_gadgets(n_qubits=4, n_pauli_gadgets=100, max_entangle=3)\n",
        "print('Circuit depth: ', circg.depth())\n",
        "print('CX depth: ', circg.depth_by_type(OpType.CX))\n",
        "render_circuit_jupyter(circg)"
      ],
      "outputs": [],
      "execution_count": null,
      "metadata": {},
      "id": "ceba6aaa"
    },
    {
      "cell_type": "code",
      "source": [
        "from pytket.passes import PauliSimp, PauliSquash\n",
        "circgSi = circg.copy()\n",
        "circgSq = circg.copy()\n",
        "PauliSimp().apply(circgSi)\n",
        "print('Circuit depth: ', circgSi.depth())\n",
        "print('CX depth: ', circgSi.depth_by_type(OpType.CX))\n",
        "render_circuit_jupyter(circgSi)\n",
        "PauliSquash().apply(circgSq)\n",
        "print('Circuit depth: ', circgSq.depth())\n",
        "print('CX depth: ', circgSq.depth_by_type(OpType.CX))\n",
        "render_circuit_jupyter(circgSq)"
      ],
      "outputs": [],
      "execution_count": null,
      "metadata": {},
      "id": "db6b6c02"
    },
    {
      "cell_type": "markdown",
      "source": [
        "### b. 事前に定義されている量子回路の最適化(量子デバイス依存): `get_compiled_circuit`\n",
        "tketでは非量子デバイス依存の量子回路の最適化だけでなく、量子デバイス毎に用意されている量子回路の最適化が用意されてます。\n",
        "こちらは、量子デバイスが用意しているゲートセットやアーキテクチャー等を考慮した量子回路の最適化です。\n",
        "\n",
        "Optimisationのレベルを0,1,2から選択でき、それぞれ以下のようになっています。defaultは2。\n",
        "\n",
        "|  レベル |  概要  |\n",
        "| :---- | :---- |\n",
        "|  0  | Just solves the constraints as simply as possible. No optimisation. |\n",
        "|  1  | Adds basic optimisations (those covered by the SynthesiseX() passes) for efficient compilation. |\n",
        "|  2  | Extends to more intensive optimisations (those covered by the FullPeepholeOptimise() pass). |\n",
        "\n"
      ],
      "metadata": {
        "tags": []
      },
      "id": "79af3c94"
    },
    {
      "cell_type": "markdown",
      "source": [
        "### IBMのibmq_limaのノイズモデル（クラウドシミュレータ）にジョブを実行"
      ],
      "metadata": {},
      "id": "3eae863b"
    },
    {
      "cell_type": "code",
      "source": [
        "from pytket.extensions.qiskit import IBMQEmulatorBackend"
      ],
      "outputs": [],
      "execution_count": null,
      "metadata": {
        "jupyter": {
          "source_hidden": false,
          "outputs_hidden": false
        },
        "nteract": {
          "transient": {
            "deleting": false
          }
        }
      },
      "id": "ed84e02f-a363-4417-97c6-3e231c43a839"
    },
    {
      "cell_type": "code",
      "source": [
        "backend = IBMQEmulatorBackend(\"ibmq_lima\")\n",
        "#circ2x0 = circ2x.copy()\n",
        "#circ2c0 = backend.get_compiled_circuit(circ2x0,optimisation_level=0)\n",
        "#print('Level 0')\n",
        "#print('Circuit depth: ', circ2x0.depth())\n",
        "#print('CX depth: ', circ2x0.depth_by_type(OpType.CX))\n",
        "#render_circuit_jupyter(circ2x0)\n",
        "circ2x1 = circ2x.copy()\n",
        "circ2x1 = backend.get_compiled_circuit(circ2x1,optimisation_level=1)\n",
        "print('Level 1')\n",
        "print('Circuit depth: ', circ2x1.depth())\n",
        "print('CX depth: ', circ2x1.depth_by_type(OpType.CX))\n",
        "render_circuit_jupyter(circ2x1)\n",
        "circ2x2 = circ2x.copy()\n",
        "circ2x2 = backend.get_compiled_circuit(circ2x2,optimisation_level=2)\n",
        "print('Level 2')\n",
        "print('Circuit depth: ', circ2x2.depth())\n",
        "print('CX depth: ', circ2x2.depth_by_type(OpType.CX))\n",
        "render_circuit_jupyter(circ2x2)"
      ],
      "outputs": [],
      "execution_count": null,
      "metadata": {},
      "id": "be4e55d5"
    },
    {
      "cell_type": "code",
      "source": [
        "circ2x2.measure_all()\n",
        "handle = backend.process_circuit(circ2x2, n_shots =1000)\n",
        "result_counts = backend.get_result(handle).get_counts()\n",
        "result_counts"
      ],
      "outputs": [],
      "execution_count": null,
      "metadata": {
        "tags": []
      },
      "id": "9564b00f"
    },
    {
      "cell_type": "markdown",
      "source": [
        "### 5-2. いくつかの量子回路の最適化関数や変換\n",
        "a. `CliffordSimp`,\n",
        "\n",
        "b. `RemoveRedundancies`, \n",
        "\n",
        "c. `CommuteThroughMultis`, \n",
        "\n",
        "e. `EulerAngleReduction`, \n",
        "\n",
        "d. `KAKDecomposition` (省略)"
      ],
      "metadata": {},
      "id": "3cb36e87"
    },
    {
      "cell_type": "markdown",
      "source": [
        "### a. `CliffordSimp`\n",
        "2量子ビットゲートの数を減らすことができるクリフォードゲートの特定のシーケンスを探す。"
      ],
      "metadata": {},
      "id": "2efdcb5f"
    },
    {
      "cell_type": "code",
      "source": [
        "# Circuit optimization by using compiler passes.\n",
        "from pytket.passes import CliffordSimp\n",
        "# A basic inefficient pattern can be reduced by 1 CX\n",
        "simple = Circuit(2)\n",
        "simple.CX(0, 1).S(1).CX(1, 0)\n",
        "render_circuit_jupyter(simple)\n",
        "\n",
        "CliffordSimp().apply(simple)\n",
        "render_circuit_jupyter(simple)"
      ],
      "outputs": [],
      "execution_count": null,
      "metadata": {},
      "id": "1388767f"
    },
    {
      "cell_type": "code",
      "source": [
        "from pytket import Circuit, OpType\n",
        "from pytket.passes import CliffordSimp\n",
        "\n",
        "# The same pattern, up to commutation and local Clifford algebra\n",
        "circ = Circuit(3)\n",
        "circ.Rz(0.2, 0)\n",
        "circ.Rx(0.35, 1)\n",
        "circ.V(0).H(1).CX(0, 1).CX(1, 2).Rz(-0.6, 2).CX(1, 2).CX(0, 1).Vdg(0).H(1)\n",
        "circ.H(1).H(2).CX(0, 1).CX(1, 2).Rz(0.8, 2).CX(1, 2).CX(0, 1).H(1).H(2)\n",
        "circ.Rx(0.1, 1)\n",
        "print('Circuit depth: ', circ.depth())\n",
        "print('CX depth: ', circ.depth_by_type(OpType.CX))\n",
        "render_circuit_jupyter(circ)\n",
        "CliffordSimp().apply(circ)\n",
        "print('Circuit depth: ', circ.depth())\n",
        "print('CX depth: ', circ.depth_by_type(OpType.CX))\n",
        "render_circuit_jupyter(circ)"
      ],
      "outputs": [],
      "execution_count": null,
      "metadata": {},
      "id": "e5287a2d"
    },
    {
      "cell_type": "markdown",
      "source": [
        "### b. `RemoveRedundancies`\n",
        "ゼロパラメータの回転ゲート、ゲートと逆のペア、同じ基底で隣接する回転ゲートなどを削減します。"
      ],
      "metadata": {},
      "id": "df91e750"
    },
    {
      "cell_type": "code",
      "source": [
        "from pytket.passes import RemoveRedundancies\n",
        "circ = Circuit(3, 3)\n",
        "circ.Rx(0.92, 0).CX(1, 2).Rx(-0.18, 0)  # Adjacent Rx gates can be merged\n",
        "circ.CZ(0, 1).Ry(0.11, 2).CZ(0, 1)      # CZ is self-inverse\n",
        "circ.add_gate(OpType.XXPhase, 0.6, [0, 1])\n",
        "circ.add_gate(OpType.YYPhase, 0, [0, 1])    # 0-angle rotation does nothing\n",
        "circ.add_gate(OpType.ZZPhase, -0.84, [0, 1])\n",
        "circ.Rx(0.03, 0).Rz(-0.9, 1).measure_all()  # Effect of Rz is eliminated by measurement\n",
        "print('Circuit depth: ', circ.depth())\n",
        "print('CX depth: ', circ.depth_by_type(OpType.CX))\n",
        "render_circuit_jupyter(circ)\n",
        "\n",
        "RemoveRedundancies().apply(circ)\n",
        "print('Circuit depth: ', circ.depth())\n",
        "print('CX depth: ', circ.depth_by_type(OpType.CX))\n",
        "render_circuit_jupyter(circ)\n"
      ],
      "outputs": [],
      "execution_count": null,
      "metadata": {},
      "id": "ed0374c8"
    },
    {
      "cell_type": "code",
      "source": [],
      "outputs": [],
      "execution_count": null,
      "metadata": {},
      "id": "e49a7560"
    },
    {
      "cell_type": "markdown",
      "source": [
        "### c. `CommuteThroughMultis`\n",
        "\"1量子ビットゲートと可換な\"2量子ビットゲートが先に作用している場合、これらを交換する。"
      ],
      "metadata": {},
      "id": "8a303c81"
    },
    {
      "cell_type": "code",
      "source": [
        "from pytket.passes import CommuteThroughMultis\n",
        "circD = Circuit(3)\n",
        "circD.CX(0,2).X(2)\n",
        "render_circuit_jupyter(circD)\n",
        "CommuteThroughMultis().apply(circD)\n",
        "render_circuit_jupyter(circD)"
      ],
      "outputs": [],
      "execution_count": null,
      "metadata": {},
      "id": "72c728f8"
    },
    {
      "cell_type": "markdown",
      "source": [
        "### d. `EulerAngleReduction`\n",
        "`EulerAngleReduction`では、ユニタリ行列のオイラー角分解を与える。"
      ],
      "metadata": {
        "tags": []
      },
      "id": "f1af427b"
    },
    {
      "cell_type": "code",
      "source": [
        "from pytket.circuit import Circuit, OpType\n",
        "from pytket.circuit.display import render_circuit_jupyter\n",
        "from pytket.passes import EulerAngleReduction, auto_rebase_pass\n",
        "rebase = auto_rebase_pass({OpType.CZ, OpType.Rx, OpType.Rz})\n",
        "circE = Circuit(1)\n",
        "circE.H(0).T(0)\n",
        "render_circuit_jupyter(circE)\n",
        "rebase.apply(circE)\n",
        "render_circuit_jupyter(circE)\n",
        "EulerAngleReduction(OpType.Rx, OpType.Rz).apply(circE)\n",
        "render_circuit_jupyter(circE)\n",
        "EulerAngleReduction(OpType.Rz, OpType.Rx).apply(circE)\n",
        "render_circuit_jupyter(circE)"
      ],
      "outputs": [],
      "execution_count": null,
      "metadata": {
        "tags": []
      },
      "id": "59601748"
    },
    {
      "cell_type": "code",
      "source": [
        "from pytket.circuit import Circuit, OpType\n",
        "from pytket.circuit.display import render_circuit_jupyter\n",
        "from pytket.passes import EulerAngleReduction, auto_rebase_pass\n",
        "rebase = auto_rebase_pass({OpType.CZ, OpType.Rx, OpType.Ry})\n",
        "circE = Circuit(1)\n",
        "circE.H(0).T(0)\n",
        "render_circuit_jupyter(circE)\n",
        "rebase.apply(circE)\n",
        "render_circuit_jupyter(circE)\n",
        "#EulerAngleReduction(OpType.Rx, OpType.Ry).apply(circE)\n",
        "#render_circuit_jupyter(circE)\n",
        "EulerAngleReduction(OpType.Ry, OpType.Rx).apply(circE)\n",
        "render_circuit_jupyter(circE)"
      ],
      "outputs": [],
      "execution_count": null,
      "metadata": {},
      "id": "350f2788"
    },
    {
      "cell_type": "markdown",
      "source": [
        "### 5-3. 量子回路の最適化のカスタマイズ: \n",
        "- `SequencePass`"
      ],
      "metadata": {},
      "id": "638290d1"
    },
    {
      "cell_type": "markdown",
      "source": [
        "tketにはそのほかにも多くの量子回路最適化を用意している。\n",
        "これらを最適化のパスに組み込みたい場合や自分で実装した最適化関数をパスに組み込みたい場合には`SequencePass`を利用すれば、カスタマイズが可能である。"
      ],
      "metadata": {},
      "id": "6ec961ca"
    },
    {
      "cell_type": "code",
      "source": [
        "from pytket import Circuit, OpType\n",
        "from pytket.passes import auto_rebase_pass, EulerAngleReduction, SequencePass\n",
        "rebase = auto_rebase_pass({OpType.CZ, OpType.Rz, OpType.Rx})\n",
        "circ = Circuit(3)\n",
        "circ.CX(0, 1).Rx(0.3, 1).CX(2, 1).Rz(0.8, 1)\n",
        "render_circuit_jupyter(circ)\n",
        "\n",
        "circ1 = circ.copy()\n",
        "rebase.apply(circ1)\n",
        "EulerAngleReduction(OpType.Rz, OpType.Rx).apply(circ1)\n",
        "render_circuit_jupyter(circ1)\n",
        "\n",
        "circ2 = circ.copy()\n",
        "comp = SequencePass([rebase, EulerAngleReduction(OpType.Rz, OpType.Rx)])\n",
        "comp.apply(circ2)\n",
        "render_circuit_jupyter(circ2)"
      ],
      "outputs": [],
      "execution_count": null,
      "metadata": {},
      "id": "efb26303"
    },
    {
      "cell_type": "markdown",
      "source": [
        "参考\n",
        "- pytket.passes https://cqcl.github.io/tket/pytket/api/passes.html"
      ],
      "metadata": {
        "jp-MarkdownHeadingCollapsed": true,
        "tags": []
      },
      "id": "258bd8cb"
    },
    {
      "cell_type": "code",
      "source": [],
      "outputs": [],
      "execution_count": null,
      "metadata": {
        "jupyter": {
          "source_hidden": false,
          "outputs_hidden": false
        },
        "nteract": {
          "transient": {
            "deleting": false
          }
        }
      },
      "id": "cbc7d53b-d9fe-45ba-b7e7-a720493ad76f"
    }
  ],
  "metadata": {
    "instance_type": "ml.t3.medium",
    "kernelspec": {
      "name": "python3",
      "language": "python",
      "display_name": "Python 3 (ipykernel)"
    },
    "language_info": {
      "name": "python",
      "version": "3.9.17",
      "mimetype": "text/x-python",
      "codemirror_mode": {
        "name": "ipython",
        "version": 3
      },
      "pygments_lexer": "ipython3",
      "nbconvert_exporter": "python",
      "file_extension": ".py"
    },
    "kernel_info": {
      "name": "python3"
    },
    "nteract": {
      "version": "nteract-front-end@1.0.0"
    }
  },
  "nbformat": 4,
  "nbformat_minor": 5
}