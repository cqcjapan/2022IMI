{
 "cells": [
  {
   "cell_type": "markdown",
   "id": "b8cb093b",
   "metadata": {
    "tags": []
   },
   "source": [
    "# Pytket Extensions\n",
    "\n"
   ]
  },
  {
   "cell_type": "markdown",
   "id": "5eca4c43-95c1-4688-9594-3d4d1bae0427",
   "metadata": {},
   "source": [
    "Pytket Extensionは様々な企業が開発している量子回路プログラミング言語、量子デバイス、量子シミュレーターと連携することを可能にする拡張機能です。\n",
    "Azure QuantumとAmazon Braketといった、クラウド経由で追加の量子デバイスやシミュレータにアクセスすることも可能です。\n",
    "\n",
    "pytketのBackendは、量子回路を処理するためのQPU（Quantum Processing Unit）または量子シミュレータへの接続を表します。\n",
    "pytketで利用可能なBackendの種類は、以下の通りです。\n",
    "- QPUs: ショットベースの結果を返す量子コンピュータです。例：QuantinuumBackend.\n",
    "\n",
    "- クラウドバックエンド: pytketがクラウドプラットフォームと連携し、追加のQPUやシミュレータにアクセスできるようにするバックエンドです。例：BraketBackend.\n",
    "\n",
    "- エミュレータ: これらは古典コンピュータで量子回路をシミュレートし、ショットベースの結果を生成します。エミュレータはノイズ・モデルを使用し、実際のQPUをエミュレートするための接続性制約を持つ場合もあります。例：IBMQEmulatorBackend.\n",
    "\n",
    "- ステートベクターシミュレータ: 回路によって準備された純粋な量子状態を計算し、ベクトル/ndarrayを返します。例：ForestStateBackend, AerStateBackend.\n",
    "\n",
    "- ユニタリーシミュレータ: ユニタリーシミュレータは、回路によって適用されるユニタリーオペレータを計算します。ユニタリー行列/ndarrayが返されます。例：AerUnitaryBackend.\n",
    "\n",
    "- 密度行列シミュレータ: これらのシミュレータは、回路によって準備される密度行列を計算します。例：CirqDensityMatrixSampleBackend 。\n",
    "\n",
    "- その他の特殊なシミュレータ: 特定のタイプの回路をシミュレートするための拡張機能があります。例：SimplexBackendはClifford回路をシミュレートするために設計されています。\n"
   ]
  },
  {
   "cell_type": "markdown",
   "id": "79814ff9-9425-4f74-9990-b0c430a25bd3",
   "metadata": {},
   "source": [
    "ここでは\n",
    "- 量子回路の変換\n",
    "- 量子回路を量子デバイスや量子シミュレータで実行"
   ]
  },
  {
   "cell_type": "markdown",
   "id": "6e1950ee",
   "metadata": {
    "tags": []
   },
   "source": [
    "### TKETとは (再掲)\n",
    "- Quantum Software Development Kit\n",
    "- C++で実装\n",
    "- pythonモジュール　`pytket`で利用可能\n",
    "- 最適化コンパイラ：　ユーザーフレンドリーな回路→量子デバイスで実行可能な回路に変換可能\n",
    "    - Language-agnostic (多くの量子プログラミングフレームワーク(qiskit, Cirq, etc)をサポート)\n",
    "    - Retagetable (多くの量子デバイス(IBM Quantum, Quantinuum, AWS Braket, etc)をサポート)\n",
    "    - Circuit Optimisation (量子計算時に生じるデバイスエラーの影響を最小化。デバイス依存＆デバイス非依存のものが実装)\n",
    "    \n",
    "<img src=\"fig/tket1.png\" width=\"750\">"
   ]
  },
  {
   "cell_type": "markdown",
   "id": "75c32ba7",
   "metadata": {},
   "source": [
    "#### 参照\n",
    "- [pytket ドキュメント](https://cqcl.github.io/tket/pytket/api/index.html)\n",
    "- [pytket ユーザーマニュアル](https://cqcl.github.io/pytket/manual/index.html)\n",
    "- [t|ket⟩ : A Retargetable Compiler for NISQ Devices](https://arxiv.org/abs/2003.10611)"
   ]
  },
  {
   "cell_type": "markdown",
   "id": "90fcd536",
   "metadata": {
    "tags": []
   },
   "source": [
    "#### 今回必要となる python パッケージ\n",
    "Python 3.9.7で動作確認をしています。\n",
    "\n",
    "|  パッケージ （version） |  概要  |\n",
    "| :---- | :---- |\n",
    "|  pytket  |  tketを利用するためのpython モジュール  ( available for python3.7 or higher )|\n",
    "|  pytket-qiskit  |  qiskitを利用するためのpytket-extension  |\n",
    "|  pytket-braket  |  Amazon Braketを利用するためのpytket-extension  |\n",
    "\n",
    "<img src=\"./fig/tket2.png\" width=\"750\">"
   ]
  },
  {
   "cell_type": "markdown",
   "id": "d1a71f86-2f6e-4773-9805-d6ddd26dd62e",
   "metadata": {},
   "source": [
    "参考：以下のextensionがpytketに用意されている\n",
    "\n",
    "|  パッケージ （version） |  概要  |\n",
    "| :---- | :---- |\n",
    "|  pytket-qsharp  |  Azure Quantumを利用するためのpytket-extension  |\n",
    "|  pytket-quantinuum  |  Quantinuumを利用するためのpytket-extension  |"
   ]
  },
  {
   "cell_type": "markdown",
   "id": "aa16497a",
   "metadata": {},
   "source": [
    "環境にインストールされていない場合は、以下のセルの＃を取り除き、インストールしてください。"
   ]
  },
  {
   "cell_type": "code",
   "execution_count": null,
   "id": "f53935a7",
   "metadata": {},
   "outputs": [],
   "source": [
    "#!pip install pytket\n",
    "#!pip install pytket-qiskit\n",
    "#!pip install pytket-braket\n",
    "#!pip install pytket-qsharp #こちらのパッケージは.net等のインストールが必要です。詳しくは こちら を参照ください。\n",
    "#!pip install pytket-quantinuum\n",
    "#!pip install pylatexenc #可視化のためのパッケージ"
   ]
  },
  {
   "cell_type": "markdown",
   "id": "3f570571",
   "metadata": {
    "tags": []
   },
   "source": [
    "## 1. 量子回路の変換\n",
    "pytketでは\n",
    "- qiskitで記述した量子回路(`qiskit.QuantumCircuit`)からtketの量子回路のクラスに変換が可能\n",
    "- tketで記述した量子回路からqiskitの量子回路(`qiskit.QuantumCircuit`)のクラスに変換が可能\n",
    "- tketで記述した量子回路と他の量子プログラミング言語での量子回路の交換が可能\n",
    "\n",
    "参照：[pytket-extensions](https://cqcl.github.io/pytket-extensions/api/index.html) "
   ]
  },
  {
   "cell_type": "markdown",
   "id": "cc06b5db",
   "metadata": {},
   "source": [
    "### 1-1. `qiskit`の量子回路から`tket`の量子回路に変換"
   ]
  },
  {
   "cell_type": "code",
   "execution_count": null,
   "id": "5fe68459-f3db-4efc-b86c-4fd33ecb78d8",
   "metadata": {},
   "outputs": [],
   "source": [
    "from qiskit import QuantumCircuit\n",
    "\n",
    "qs_bell = QuantumCircuit(2)\n",
    "qs_bell.h(0)\n",
    "qs_bell.cx(0,1)\n",
    "qs_bell.measure_all()\n",
    "\n",
    "qs_bell.draw(output='mpl')"
   ]
  },
  {
   "cell_type": "code",
   "execution_count": null,
   "id": "67884d14",
   "metadata": {},
   "outputs": [],
   "source": [
    "from pytket.extensions.qiskit import qiskit_to_tk"
   ]
  },
  {
   "cell_type": "code",
   "execution_count": null,
   "id": "13f9045c",
   "metadata": {},
   "outputs": [],
   "source": [
    "bell2 = qiskit_to_tk(qs_bell)\n",
    "bell2"
   ]
  },
  {
   "cell_type": "code",
   "execution_count": null,
   "id": "131f2a7c",
   "metadata": {},
   "outputs": [],
   "source": [
    "render_circuit_jupyter(bell2)"
   ]
  },
  {
   "cell_type": "markdown",
   "id": "1d354e75",
   "metadata": {},
   "source": [
    "### 1-2. `tket`の量子回路から`qiskit`の量子回路に変換"
   ]
  },
  {
   "cell_type": "code",
   "execution_count": null,
   "id": "c3c24571-c5f5-4703-a1ef-f7dafc52c160",
   "metadata": {},
   "outputs": [],
   "source": [
    "from pytket import Circuit\n",
    "from pytket.circuit.display import render_circuit_jupyter\n",
    "\n",
    "bell = Circuit(2)\n",
    "bell.H(0).CX(0,1)\n",
    "bell.measure_all()\n",
    "\n",
    "render_circuit_jupyter(bell)"
   ]
  },
  {
   "cell_type": "code",
   "execution_count": null,
   "id": "bfe450cc",
   "metadata": {},
   "outputs": [],
   "source": [
    "from pytket.extensions.qiskit import tk_to_qiskit"
   ]
  },
  {
   "cell_type": "code",
   "execution_count": null,
   "id": "d91a19a2",
   "metadata": {},
   "outputs": [],
   "source": [
    "qs_bell2 = tk_to_qiskit(bell)\n",
    "qs_bell2"
   ]
  },
  {
   "cell_type": "code",
   "execution_count": null,
   "id": "06031b7d",
   "metadata": {},
   "outputs": [],
   "source": [
    "qs_bell2.draw('mpl')"
   ]
  },
  {
   "cell_type": "markdown",
   "id": "f91214a2-3fa6-451f-a125-049d6fb235e3",
   "metadata": {},
   "source": [
    "### 1-3. `braket`の量子回路から`tket`の量子回路に変換"
   ]
  },
  {
   "cell_type": "code",
   "execution_count": null,
   "id": "a6b3724f",
   "metadata": {},
   "outputs": [],
   "source": [
    "from pytket.extensions.braket import tk_to_braket\n",
    "aws_bell2 = tk_to_braket(bell)\n",
    "print(aws_bell2[0])"
   ]
  },
  {
   "cell_type": "markdown",
   "id": "dc85585a-e629-4f29-b1da-18fbbe2d74cf",
   "metadata": {},
   "source": [
    "### 1-4. `tket`の量子回路から`braket`の量子回路に変換"
   ]
  },
  {
   "cell_type": "code",
   "execution_count": null,
   "id": "99018e96-b953-4941-81ed-2fb47c5a0084",
   "metadata": {},
   "outputs": [],
   "source": [
    "from braket.devices import LocalSimulator\n",
    "from braket.circuits import Circuit\n",
    "\n",
    "# create the circuit\n",
    "aws_bell = Circuit().h(0).cnot(0, 1)\n",
    "print(aws_bell)"
   ]
  },
  {
   "cell_type": "code",
   "execution_count": null,
   "id": "53807a6a-8b46-413e-b34a-57a6d2a030e3",
   "metadata": {},
   "outputs": [],
   "source": [
    "from pytket.extensions.braket import braket_to_tk\n",
    "bell3 = braket_to_tk(aws_bell)\n",
    "render_circuit_jupyter(bell3)"
   ]
  },
  {
   "cell_type": "markdown",
   "id": "fead3577-27f4-4855-858c-6ea34a6a0321",
   "metadata": {},
   "source": [
    "## 2. 量子回路を量子デバイスや量子シミュレータで実行"
   ]
  },
  {
   "cell_type": "markdown",
   "id": "14c10de5",
   "metadata": {
    "tags": []
   },
   "source": [
    "### 下記のスクリプトはAmazon Braketで<span style=\"color: red; \">有料の操作</span>となることがありますので、ご注意ください。"
   ]
  },
  {
   "cell_type": "markdown",
   "id": "a2fe901a",
   "metadata": {
    "tags": []
   },
   "source": [
    "### 2-1. pytket-qiskitを利用して、IBM Quantumのシミュレータや実機にジョブを実行"
   ]
  },
  {
   "cell_type": "markdown",
   "id": "fcd7baeb-c1b8-4384-add5-5ad938445775",
   "metadata": {},
   "source": [
    "#### a. IBM Quantum へのアクセス設定"
   ]
  },
  {
   "cell_type": "code",
   "execution_count": null,
   "id": "440004ec",
   "metadata": {},
   "outputs": [],
   "source": [
    "path = 'key/ibm-token'\n",
    "f = open(path)\n",
    "ibm_token = f.read()\n",
    "f.close()\n",
    "from pytket.extensions.qiskit.backends.config import set_ibmq_config\n",
    "set_ibmq_config(ibmq_api_token=ibm_token)"
   ]
  },
  {
   "cell_type": "code",
   "execution_count": null,
   "id": "006c29bc-efd9-418b-8b99-ae50602bc946",
   "metadata": {},
   "outputs": [],
   "source": [
    "#from qiskit import IBMQ\n",
    "#IBMQ.save_account(ibm_token, overwrite=True)\n",
    "#from pytket.extensions.qiskit.backends.config import set_ibmq_config\n",
    "#set_ibmq_config(ibmq_api_token=ibm_token,hub=\"ibm-q\",group=\"open\",project=\"main\")"
   ]
  },
  {
   "cell_type": "code",
   "execution_count": null,
   "id": "a003af36",
   "metadata": {},
   "outputs": [],
   "source": [
    "from pytket.extensions.qiskit import IBMQBackend, IBMQEmulatorBackend, AerBackend\n",
    "from pytket import Circuit\n",
    "from pytket.circuit.display import render_circuit_jupyter"
   ]
  },
  {
   "cell_type": "code",
   "execution_count": null,
   "id": "6cf17d33-24cc-42fe-a105-a6190554c60e",
   "metadata": {},
   "outputs": [],
   "source": [
    "list_backend=IBMQBackend.available_devices()\n",
    "for i in range(len(list_backend)):\n",
    "    print(list_backend[i].device_name)"
   ]
  },
  {
   "cell_type": "markdown",
   "id": "097cdb5d-5307-41ae-b720-50c33c5df196",
   "metadata": {},
   "source": [
    "#### b. backendの選択"
   ]
  },
  {
   "cell_type": "code",
   "execution_count": null,
   "id": "1469076b",
   "metadata": {},
   "outputs": [],
   "source": [
    "# ibm_backend = AerBackend() #a.を省略すること可能\n",
    "# ibm_backend = IBMQBackend(\"ibmq_lima\")\n",
    "ibm_backend = IBMQBackend(\"ibmq_qasm_simulator\")\n",
    "# AerBackend to emulate the behaviour of IBMQBackend. Requires a valid IBMQ account.\n",
    "#ibm_backend = IBMQEmulatorBackend(\"ibmq_lima\")"
   ]
  },
  {
   "cell_type": "markdown",
   "id": "725fbc83-3de6-4f2f-bbe1-af21dcfa2dca",
   "metadata": {},
   "source": [
    "#### c. backendのゲートセットに書き換える\n",
    "`Backend.get_compiled_circuit(Circuit)`"
   ]
  },
  {
   "cell_type": "code",
   "execution_count": null,
   "id": "4d0fa46b-9f5e-4670-9c21-210b8f456056",
   "metadata": {},
   "outputs": [],
   "source": [
    "bell = Circuit(2)\n",
    "bell.H(0).CX(0,1)\n",
    "bell.measure_all()\n",
    "render_circuit_jupyter(bell)\n",
    "\n",
    "ibm_bell = ibm_backend.get_compiled_circuit(bell)\n",
    "render_circuit_jupyter(ibm_bell)"
   ]
  },
  {
   "cell_type": "markdown",
   "id": "e66296e5-8ee1-4880-8fde-de4ec7c61fa9",
   "metadata": {},
   "source": [
    "#### d. 選択したbackendに量子回路を送信して実行させる"
   ]
  },
  {
   "cell_type": "code",
   "execution_count": null,
   "id": "c51c02cb",
   "metadata": {},
   "outputs": [],
   "source": [
    "ibm_handle = ibm_backend.process_circuit(ibm_bell, n_shots =1000)"
   ]
  },
  {
   "cell_type": "code",
   "execution_count": null,
   "id": "0ff2d781",
   "metadata": {
    "tags": []
   },
   "outputs": [],
   "source": [
    "ibm_result = ibm_backend.get_result(ibm_handle)"
   ]
  },
  {
   "cell_type": "code",
   "execution_count": null,
   "id": "8596dc83",
   "metadata": {},
   "outputs": [],
   "source": [
    "#ibm_backend.cancel(ibm_handle)"
   ]
  },
  {
   "cell_type": "markdown",
   "id": "3e6152a2-4c82-4e06-8f95-99b23938628b",
   "metadata": {},
   "source": [
    "#### e. 結果の表示"
   ]
  },
  {
   "cell_type": "code",
   "execution_count": null,
   "id": "da392a0a",
   "metadata": {},
   "outputs": [],
   "source": [
    "from qiskit.visualization import plot_histogram\n",
    "plot_histogram(ibm_result.get_counts())"
   ]
  },
  {
   "cell_type": "code",
   "execution_count": null,
   "id": "7d097e48-3967-417a-ba06-fe9a163a0be1",
   "metadata": {},
   "outputs": [],
   "source": [
    "#print(str(ibm_handle))"
   ]
  },
  {
   "cell_type": "code",
   "execution_count": null,
   "id": "c72f9afb",
   "metadata": {},
   "outputs": [],
   "source": [
    "#from pytket.backends import ResultHandle\n",
    "#from pytket.extensions.qiskit import IBMQBackend\n",
    "#ibm_backend = IBMQBackend(\"ibmq_quito\")\n",
    "#ibm_backend = IBMQBackend(\"ibmq_qasm_simulator\")"
   ]
  },
  {
   "cell_type": "code",
   "execution_count": null,
   "id": "bbdf457c-3067-47a2-af3a-300ec8299547",
   "metadata": {},
   "outputs": [],
   "source": [
    "#result = ibm_backend.get_result(handle)\n",
    "#counts = result.get_counts()\n",
    "#print(counts)\n",
    "#from qiskit.visualization import plot_histogram\n",
    "#plot_histogram(counts)"
   ]
  },
  {
   "cell_type": "markdown",
   "id": "57b922c0",
   "metadata": {
    "tags": []
   },
   "source": [
    "### 2-2. pytket-braketを利用して、Amazon Braketのシミュレータや実機にジョブを実行"
   ]
  },
  {
   "cell_type": "markdown",
   "id": "6ce9642e-1452-4856-b75e-7d06875caa75",
   "metadata": {},
   "source": [
    "#### a-1. ローカル環境からBraketにアクセスされている方は、keyフォルダーのaws-keyのアクセスキー等の情報を入力し下記を実行してください"
   ]
  },
  {
   "cell_type": "code",
   "execution_count": null,
   "id": "419859cb",
   "metadata": {},
   "outputs": [],
   "source": [
    "#path = 'key/aws-key'\n",
    "#f = open(path)\n",
    "#aws_access_key_id, aws_secret_access_key, s3_name, bucket_key= [s.strip() for s in f.readlines()]\n",
    "#f.close()"
   ]
  },
  {
   "cell_type": "code",
   "execution_count": null,
   "id": "02aec0db",
   "metadata": {},
   "outputs": [],
   "source": [
    "#import boto3\n",
    "#from braket.aws import AwsSession\n",
    "#boto_session = boto3.Session(\n",
    "#    aws_access_key_id= aws_access_key_id,\n",
    "#    aws_secret_access_key= aws_secret_access_key,\n",
    "#    region_name= 'us-east-1'\n",
    "##    region_name= 'us-west-1'\n",
    "##    region_name= 'eu-west-2'\n",
    "#)\n",
    "## us-east-1: IonQ, Simulators (haven't support Xanadu yet)\n",
    "## us-west-1: Rigetti, Simulators\n",
    "## eu-west-2: Lucy, Simulators\n",
    "##\n",
    "#aws_session = AwsSession(boto_session=boto_session)"
   ]
  },
  {
   "cell_type": "markdown",
   "id": "b0b57920-c9be-4bb5-bad2-f6a7451cd05a",
   "metadata": {},
   "source": [
    "#### a-2. Sagemaker StudioからBraketにアクセスされている方は下記を実行してください。"
   ]
  },
  {
   "cell_type": "code",
   "execution_count": null,
   "id": "52149482-700f-455b-8162-9c99725dda21",
   "metadata": {},
   "outputs": [],
   "source": [
    "import boto3\n",
    "from braket.aws import AwsSession\n",
    "boto_session = boto3.Session(\n",
    "    region_name= 'us-east-1'\n",
    "#    region_name= 'us-west-1'\n",
    "#    region_name= 'eu-west-2'\n",
    ")\n",
    "# us-east-1: IonQ, Simulators (haven't support Xanadu yet)\n",
    "# us-west-1: Rigetti, Simulators\n",
    "# eu-west-2: Lucy, Simulators\n",
    "#\n",
    "aws_session = AwsSession(boto_session=boto_session)\n",
    "s3_name = aws_session.default_bucket()\n",
    "bucket_key = 'pytket/qsrh'"
   ]
  },
  {
   "cell_type": "code",
   "execution_count": null,
   "id": "c41cb10b-eee0-4ffb-81a7-ab1b10741560",
   "metadata": {},
   "outputs": [],
   "source": [
    "aws_session.search_devices()"
   ]
  },
  {
   "cell_type": "markdown",
   "id": "0abe87c6-f153-46d6-854a-3b5b91bfae46",
   "metadata": {},
   "source": [
    "#### b. backend の選択"
   ]
  },
  {
   "cell_type": "code",
   "execution_count": null,
   "id": "fa36070a",
   "metadata": {},
   "outputs": [],
   "source": [
    "from pytket.extensions.braket import BraketBackend\n",
    "\n",
    "# ionQ   arn:aws:braket:::device/qpu/ionq/ionQdevice, region: us-east-1\n",
    "# aws_backend = BraketBackend(device='ionQdevice', s3_bucket=s3_name , s3_folder = bucket_key, device_type = 'qpu', provider = 'ionq', aws_session=aws_session)\n",
    "# Aspen-M-1   arn:aws:braket:us-west-1::device/qpu/rigetti/Aspen-M-1 #Aspen-M-1, region: us-west-1\n",
    "# aws_backend = BraketBackend(device='Aspen-M-1',region = 'us-west-1', s3_bucket=s3_name , s3_folder = bucket_key, device_type = 'qpu', provider = 'rigetti', aws_session=aws_session)\n",
    "# Aspen-11   arn:aws:braket:::device/qpu/rigetti/Aspen-11 #Aspen-11, region: us-west-1\n",
    "# aws_backend = BraketBackend(device='Aspen-11', s3_bucket=s3_name , s3_folder = bucket_key, device_type = 'qpu', provider = 'rigetti', aws_session=aws_session)\n",
    "# Oxford Lucy   arn:aws:braket:eu-west-2::device/qpu/oqc/Lucy #Lucy, region: eu-west-2\n",
    "# aws_backend = BraketBackend(device='Lucy',region = 'eu-west-2', s3_bucket=s3_name , s3_folder = bucket_key, device_type = 'qpu', provider = 'oqc', aws_session=aws_session)\n",
    "# SV1    sim_arn = 'arn:aws:braket:::device/quantum-simulator/amazon/sv1'     #SV1, region:\n",
    "# aws_backend = BraketBackend(device='sv1', s3_bucket=s3_name , s3_folder = bucket_key, aws_session=aws_session)\n",
    "# TN1   sim_arn = 'arn:aws:braket:::device/quantum-simulator/amazon/tn1'    #TN1, region: us-west-2, us-east-1\n",
    "# aws_backend = BraketBackend(device='tn1', s3_bucket=s3_name , s3_folder = bucket_key, device_type = 'quantum-simulator', provider = 'amazon', aws_session=aws_session)\n",
    "# DM1   sim_arn = 'arn:aws:braket:::device/quantum-simulator/amazon/dm1'    #DM1, region: \n",
    "# aws_backend = BraketBackend(device='dm1', s3_bucket=s3_name , s3_folder = bucket_key, device_type = 'quantum-simulator', provider = 'amazon', aws_session=aws_session)\n",
    "# Local sv1 simulator\n",
    "aws_backend = BraketBackend(local = True) #a.を省略すること可能"
   ]
  },
  {
   "cell_type": "code",
   "execution_count": null,
   "id": "4c2938a1-0389-4926-96a7-662903e8f247",
   "metadata": {
    "tags": []
   },
   "outputs": [],
   "source": [
    "#aws_backend.backend_info"
   ]
  },
  {
   "cell_type": "markdown",
   "id": "e740eba4-d405-4bc1-8cde-682f19d4168c",
   "metadata": {},
   "source": [
    "#### c. backendのゲートセットに書き換える\n",
    "`Backend.get_compiled_circuit(Circuit)`"
   ]
  },
  {
   "cell_type": "code",
   "execution_count": null,
   "id": "abfed170",
   "metadata": {
    "tags": []
   },
   "outputs": [],
   "source": [
    "from pytket import Circuit\n",
    "from pytket.circuit.display import render_circuit_jupyter\n",
    "# bell状態の作成\n",
    "bell = Circuit(2)\n",
    "bell.H(0).CX(0,1)\n",
    "bell.measure_all()\n",
    "render_circuit_jupyter(bell)\n",
    "\n",
    "# backend に用意されているゲートで量子回路を表現\n",
    "aws_bell = aws_backend.get_compiled_circuit(bell)\n",
    "render_circuit_jupyter(aws_bell)"
   ]
  },
  {
   "cell_type": "markdown",
   "id": "19d37208-ceb2-41fd-a8e2-5530cf5f70d0",
   "metadata": {},
   "source": [
    "#### d. 選択したbackendに量子回路を送信して実行させる"
   ]
  },
  {
   "cell_type": "code",
   "execution_count": null,
   "id": "52c5e7be",
   "metadata": {},
   "outputs": [],
   "source": [
    "aws_handle = aws_backend.process_circuit(aws_bell, n_shots =100)"
   ]
  },
  {
   "cell_type": "code",
   "execution_count": null,
   "id": "6af51a75-76a0-4a81-813a-1e9e1e5ed03c",
   "metadata": {},
   "outputs": [],
   "source": [
    "aws_result = aws_backend.get_result(aws_handle)"
   ]
  },
  {
   "cell_type": "markdown",
   "id": "4a891e19-28ba-42e2-9de2-c05f4a6a2980",
   "metadata": {},
   "source": [
    "#### e. 結果の表示"
   ]
  },
  {
   "cell_type": "code",
   "execution_count": null,
   "id": "93c85f45-f8b5-49ce-9c62-9e0ddb48335e",
   "metadata": {},
   "outputs": [],
   "source": [
    "aws_counts = aws_result.get_counts()\n",
    "print(aws_counts)\n",
    "from qiskit.visualization import plot_histogram\n",
    "plot_histogram(aws_result.get_counts())"
   ]
  },
  {
   "cell_type": "code",
   "execution_count": null,
   "id": "6ac033cf-7ce7-41db-a93a-28e2d4d5e313",
   "metadata": {},
   "outputs": [],
   "source": [
    "#print(str(aws_handle))"
   ]
  },
  {
   "cell_type": "code",
   "execution_count": null,
   "id": "4c32ced8-616f-4b8e-9e93-3493b1151206",
   "metadata": {},
   "outputs": [],
   "source": [
    "#from pytket.backends import ResultHandle\n",
    "#handle = ResultHandle.from_str(\"handle_id\")"
   ]
  },
  {
   "cell_type": "code",
   "execution_count": null,
   "id": "d73c163a",
   "metadata": {},
   "outputs": [],
   "source": [
    "#result = aws_backend.get_result(handle)\n",
    "#print(result.get_counts())\n",
    "#from qiskit.visualization import plot_histogram\n",
    "#plot_histogram(aws_result.get_counts())"
   ]
  },
  {
   "cell_type": "code",
   "execution_count": null,
   "id": "04ba6265-9391-4e2b-83b6-6c19dbcc4ed6",
   "metadata": {
    "tags": []
   },
   "outputs": [],
   "source": []
  }
 ],
 "metadata": {
  "kernelspec": {
   "display_name": "Python 3 (ipykernel)",
   "language": "python",
   "name": "python3"
  },
  "language_info": {
   "codemirror_mode": {
    "name": "ipython",
    "version": 3
   },
   "file_extension": ".py",
   "mimetype": "text/x-python",
   "name": "python",
   "nbconvert_exporter": "python",
   "pygments_lexer": "ipython3",
   "version": "3.9.7"
  }
 },
 "nbformat": 4,
 "nbformat_minor": 5
}
