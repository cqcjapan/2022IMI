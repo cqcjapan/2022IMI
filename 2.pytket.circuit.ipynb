{
 "cells": [
  {
   "cell_type": "markdown",
   "id": "b5841144-de81-47c7-9862-7449d4ed0f0f",
   "metadata": {},
   "source": [
    "# A. tketを使った量子回路の作成　基礎編"
   ]
  },
  {
   "cell_type": "markdown",
   "id": "11f1e357-2291-4441-872a-85361dbc2e5d",
   "metadata": {},
   "source": [
    "## 1. 量子ビットの準備する"
   ]
  },
  {
   "cell_type": "markdown",
   "id": "7d7d1fe0-ce1f-496f-a96c-8c80a8003805",
   "metadata": {},
   "source": [
    "### 1-1. Circuitで量子ビット数、ビット数を指定する。$|0\\rangle^{\\otimes n}$が初期値\n",
    "量子ビットを準備\n",
    "- `Circuit('number of qubits')` \n",
    "\n",
    "量子ビット、ビットを準備\n",
    "- `Circuit('number of qubits','number of bits')` \n",
    "\n",
    "量子回路を出力\n",
    "- `render_circuit_jupyter(Circuit)`"
   ]
  },
  {
   "cell_type": "code",
   "execution_count": null,
   "id": "0e27e92b-91f9-423c-b085-560c57b43c69",
   "metadata": {},
   "outputs": [],
   "source": [
    "from pytket import Circuit\n",
    "from pytket.circuit.display import render_circuit_jupyter #量子回路モデルの表示\n",
    "trivial_circ = Circuit()        # no qubits or bits\n",
    "quantum_circ = Circuit(2)       # 4 qubits and no bits\n",
    "mixed_circ   = Circuit(2, 1)    # 4 qubits and 2 bits\n",
    "render_circuit_jupyter(trivial_circ)\n",
    "render_circuit_jupyter(quantum_circ)\n",
    "render_circuit_jupyter(mixed_circ)"
   ]
  },
  {
   "cell_type": "markdown",
   "id": "a8715c2e-14a3-4880-825f-ea66cbf1a48e",
   "metadata": {},
   "source": [
    "### 1-2. add_q_registerで量子ビット、add_c_registerでビットを挿入する\n",
    "量子ビットを加える\n",
    "- `Circuit.add_q_register('name','number of qubits')`\n",
    "\n",
    "ビットを加える\n",
    "- `Circuit.add_c_register('name','number of bits')`\n",
    "\n",
    "量子ビットのリストを出力\n",
    "- `Circuit.qubits`\n",
    "\n",
    "ビットのリストを出力\n",
    "- `Circuit.bits`"
   ]
  },
  {
   "cell_type": "code",
   "execution_count": null,
   "id": "9e7d0f7d-2d43-4f32-8733-badecf6b0f5c",
   "metadata": {},
   "outputs": [],
   "source": [
    "circ = Circuit()        # no qubits or bits\n",
    "circ.add_q_register('qb1',2)       # add 2 qubits\n",
    "circ.add_q_register('qb2',1)       # add 1 qubit\n",
    "circ.add_c_register('cb',2)        # add 2 bits\n",
    "print(circ.qubits)                 #qubit registerの確認\n",
    "print(circ.bits)                   #bit registerの確認\n",
    "render_circuit_jupyter(circ)"
   ]
  },
  {
   "cell_type": "markdown",
   "id": "2eb92427-2a63-4d6c-b024-99e2f9dafb87",
   "metadata": {},
   "source": [
    "## 2. 準備した量子ビットに量子ゲートを作用させる"
   ]
  },
  {
   "cell_type": "markdown",
   "id": "2d7fe007-d62a-46b4-a8fa-1fdb4141ab65",
   "metadata": {},
   "source": [
    "### 2-1. 基本的な量子ゲートの作用\n",
    "準備した量子ビットに量子ゲートを作用させる\n",
    "\n",
    "(制御、回転角の指定)=(無,無) \n",
    "- `Circuit.'gate_name'('terget qubit(s)')`\n",
    "\n",
    "(制御、回転角の指定)=(有,無) \n",
    "- `Circuit.'gate_name'('control_qubit(s)','terget qubit(s)')`\n",
    "\n",
    "(制御、回転角の指定)=(無,有) \n",
    "- `Circuit.'gate_name'('angle','terget qubit(s)')`\n",
    "\n",
    "(制御、回転角の指定)=(有,有) \n",
    "- `Circuit.'gate_name'('angle','control_qubit(s)','terget qubit(s)')`"
   ]
  },
  {
   "cell_type": "code",
   "execution_count": null,
   "id": "53e17371-6a6c-4e86-bdf1-3f7b9ebe4c79",
   "metadata": {},
   "outputs": [],
   "source": [
    "from pytket import Circuit\n",
    "circ = Circuit(3)\n",
    "circ.X(1)\n",
    "circ.SWAP(1,2)\n",
    "circ.CH(0,2)\n",
    "circ.Rx(0.5,1)\n",
    "circ.CCX(0,2,1)\n",
    "circ.CRy(0.25,0,2)\n",
    "render_circuit_jupyter(circ)"
   ]
  },
  {
   "cell_type": "markdown",
   "id": "8cd5cfc1-006c-457e-af33-8bbfd2e2525f",
   "metadata": {},
   "source": [
    "### 2-2. その他の量子ゲート\n",
    "参照：https://cqcl.github.io/tket/pytket/api/circuit_class.html#\n",
    "\n",
    "|  量子ゲート |  階数  | 概要   |  量子ゲート |  階数  | 概要 |  量子ゲート |  階数  | 概要   |\n",
    "| :----: | :----: | :----: | :----: | :----: | :----: | :----: | :----: | :----: |\n",
    "|  **X(qubit)**  | 1 |  \\begin{pmatrix} 0 & 1 \\\\ 1 & 0 \\end{pmatrix}  |  **Y(qubit)** | 1 |  \\begin{pmatrix} 0 & -i\\\\ i & 0 \\end{pmatrix}  |  **Z(qubit)** | 1 |  \\begin{pmatrix} 1 & 0 \\\\ 0 & -1 \\end{pmatrix}  |\n",
    "|  **CX(c_qubit,t_qubit)**  | 2 |  Controlled X  |  **CY(c_qubit,t_qubit)**  | 2 |  Controlled Y  |  **CZ(c_qubit,t_qubit)**  | 2 |  Controlled Z  |\n",
    "|  **Rx(angle,qubit)**  | 1 |  $e^{-\\frac{1}{2}i\\pi\\alpha X}=$$\\begin{pmatrix} \\cos \\frac{\\alpha\\pi}{2} & -i \\sin \\frac{\\alpha\\pi}{2} \\\\ -i \\sin \\frac{\\alpha\\pi}{2} & \\cos \\frac{\\alpha\\pi}{2} \\end{pmatrix}$  |  **Ry(angle,qubit)**  | 1 |  $e^{-\\frac{1}{2}i\\pi\\alpha Y}=$$\\begin{pmatrix} \\cos \\frac{\\alpha\\pi}{2} & -\\sin \\frac{\\alpha\\pi}{2} \\\\ \\sin \\frac{\\alpha\\pi}{2} & \\cos \\frac{\\alpha\\pi}{2} \\end{pmatrix}$  |  **Rz(angle,qubit)**  | 1 |  $e^{-\\frac{1}{2}i\\pi\\alpha Z}=$$\\begin{pmatrix} e^{-\\frac{i\\alpha\\pi}{2}} & 0 \\\\ 0 & e^{\\frac{i\\alpha\\pi}{2}} \\end{pmatrix}$  |\n",
    "|  **CRx(angle,c_qubit,t_qubit)**  | 2 |  Controlled Rx  |  **CRy(angle,c_qubit,t_qubit)**  | 2 |  Controlled Ry  |  **CRz(angle,c_qubit,t_qubit)**  | 2 |  Controlled Rz  |\n",
    "|  **XXPhase(angle,qubit0,qubit1)**  | 2 |  \\begin{pmatrix} \\cos \\frac{\\alpha\\pi}{2} &0&0& -i \\sin \\frac{\\alpha\\pi}{2} \\\\ 0 & \\cos \\frac{\\alpha\\pi}{2}&-i \\sin \\frac{\\alpha\\pi}{2}&0\\\\ 0 & -i \\sin \\frac{\\alpha\\pi}{2}&\\cos \\frac{\\alpha\\pi}{2}&0\\\\ -i \\sin \\frac{\\alpha\\pi}{2}&0&0&\\cos \\frac{\\alpha\\pi}{2}\\end{pmatrix}  |  **YYPhase(angle,qubit0,qubit1)**  | 2 |  \\begin{pmatrix} \\cos \\frac{\\alpha\\pi}{2} &0&0& i \\sin \\frac{\\alpha\\pi}{2} \\\\ 0 & \\cos \\frac{\\alpha\\pi}{2}&-i \\sin \\frac{\\alpha\\pi}{2}&0\\\\ 0 & -i \\sin \\frac{\\alpha\\pi}{2}&\\cos \\frac{\\alpha\\pi}{2}&0\\\\ i \\sin \\frac{\\alpha\\pi}{2}&0&0&\\cos \\frac{\\alpha\\pi}{2}\\end{pmatrix}   |  **ZZPhase(angle,qubit0,qubit1)**  | 2 |  \\begin{pmatrix} e^{-\\frac{i\\alpha\\pi}{2}} & 0 & 0 & 0 \\\\ 0 & e^{\\frac{i\\alpha\\pi}{2}} & 0 & 0 \\\\ 0 & 0 & e^{\\frac{i\\alpha\\pi}{2}} & 0 \\\\ 0 & 0 & 0 & e^{-\\frac{i\\alpha\\pi}{2}} \\end{pmatrix}   |"
   ]
  },
  {
   "cell_type": "markdown",
   "id": "77c09995-639c-4092-ae6c-1ad078585ed9",
   "metadata": {},
   "source": [
    "\n",
    "|  量子ゲート |  階数  | 概要 |  量子ゲート |  階数  | 概要 | \n",
    "| :----: | :----: | :----: | :----: | :----: | :----: | \n",
    "|  **H(qubit)**  | 1 | $\\frac{1}{\\sqrt{2}}\\begin{pmatrix} 1 & 1 \\\\ 1 & -1 \\end{pmatrix}$ | **SWAP(qubit0,qubit1)** | 2 |  SWAP ゲート  |\n",
    "|  **CH(c_qubit,t_qubit)**   | 2 |  Controlled H  | **CSWAP(c_qubit,t_qubit0,t_qubit1)**  | 3 |Controlled SWAP|\n",
    "| **CCX(c_qubit0,c_qubit1,t_qubit)**  | 3 |  トフォリ ゲート   | | | |"
   ]
  },
  {
   "cell_type": "markdown",
   "id": "713da81e-3ed1-4892-9383-3b6e40b70a8e",
   "metadata": {},
   "source": [
    "|  量子ゲート |  階数  | 概要 |  量子ゲート |  階数  | 概要 | \n",
    "| :----: | :----: | :----: | :----: | :----: | :----: |\n",
    "|  **S(qubit)**  | 1 |  \\begin{pmatrix} 1 & 0 \\\\ 0 & i \\end{pmatrix}  |  **T(qubit)**  | 1 |  \\begin{pmatrix} 1 & 0 \\\\ 0 & e^{\\frac{i\\pi}{4}} \\end{pmatrix}  |\n",
    "|  **Sdg(qubit)**  | 1 |  \\begin{pmatrix} 1 & 0 \\\\ 0 & -i \\end{pmatrix}  |  **Tdg(qubit)**  | 1 |  \\begin{pmatrix} 1 & 0 \\\\ 0 & e^{-\\frac{i\\pi}{4}} \\end{pmatrix}  |\n",
    "|  **SX(qubit)**  | 1 |  $\\frac{1}{2}\\begin{pmatrix} 1+i & 1-i \\\\ 1-i & 1+i \\end{pmatrix} $ |  **V(qubit)**  | 1 |   $\\frac{1}{\\sqrt{2}}\\begin{pmatrix} 1 & -i \\\\ -i & 1 \\end{pmatrix} $ |\n",
    "|  **SXdg(qubit)**  | 1 |   $\\frac{1}{2}\\begin{pmatrix} 1-i & 1+i \\\\ 1+i & 1-i \\end{pmatrix}$   |  **Vdg(qubit)**  | 1 |  $\\frac{1}{\\sqrt{2}}\\begin{pmatrix} 1 & i \\\\ i & 1 \\end{pmatrix} $ |\n",
    "|  **CSX(c_qubit,t_qubit)**  | 2 |  Controlled SX  |  **CV(c_qubit,t_qubit)**  | 2 |  Controlled V  |\n",
    "|  **CSXdg(c_qubit,t_qubit)**  | 2 |  Controlled SXdg  |  **CVdg(c_qubit,t_qubit)**  | 2 |  Controlled Vdg  |"
   ]
  },
  {
   "cell_type": "markdown",
   "id": "70771e08-dd4b-471b-9b51-e78f73327bd8",
   "metadata": {},
   "source": [
    "### 2-3. add_gateを使った量子ゲートの作用\n",
    "2-2.で挙げたゲート以外にも様々な量子ゲートが用意されている\n",
    "- `Circuit.add_gate(OpType.'gate_name',['angle(s)'],['qubit(s)'])` \n",
    "\n",
    "として利用\n",
    "\n",
    "|  量子ゲート |  階数  |  パラメータ  | 概要 |  量子ゲート |  階数  |  パラメータ  | 概要 | \n",
    "| :----: | :----: | :----: | :----: | :----: | :----: | :----: | :----: |\n",
    "|  **U1**  | 1 | $\\lambda$ | $e^{\\frac{i\\pi\\lambda}{2}}$$Rz(\\lambda)$ | **U2** | 1 | $(\\phi,\\lambda)$ | $e^{\\frac{i\\pi(\\lambda+\\phi)}{2}}$$Rz(\\phi)$$Ry(\\frac{1}{2})$$Rz(\\lambda)$  |\n",
    "|  **U3** | 1 | $(\\theta,\\phi,\\lambda)$ | $e^{\\frac{i\\pi(\\lambda+\\phi)}{2}}$$Rz(\\phi)$$Ry(\\theta)$$Rz(\\lambda)$ |  |  |  |  |\n",
    "|  **CU1**  | 2 | $\\lambda$ | controlled U1$(\\lambda)$ |  **CU3** | 2 | $(\\theta,\\phi,\\lambda)$ | controlled U3$(\\theta,\\phi,\\lambda)$ |\n",
    "|  **CnX**  | n+1 |  | n-controlled X | **CnRy** | n+1 | $\\alpha$ | n-controlled $Ry(\\alpha)$ |  |  |  |  |\n",
    "|  **TK1**  | 1 | $(\\alpha,\\beta,\\gamma)$ | $Rz(\\alpha)$$Rx(\\beta)$$Rz(\\gamma)$ | **TK2** | 2 | $(\\alpha,\\beta,\\gamma)$ | XXPhase($\\alpha$)YYPhase($\\beta$)ZZphase($\\gamma$) |\n",
    "|  **Unitary1qBox**  | 1 | $2\\times 2$ | $2\\times 2$ユニタリー行列 | **Unitary2qBox** | 2 | $4\\times 4$ | $4\\times 4$ユニタリー行列 |\n",
    "|**Unitary3qBox** | 3 | $8\\times 8$ | $8\\times 8$ユニタリー行列 |\n",
    "\n",
    "参照：https://cqcl.github.io/tket/pytket/api/optype.html\n"
   ]
  },
  {
   "cell_type": "code",
   "execution_count": null,
   "id": "3ee60b20-9d0d-4de0-9340-150fcaf4ed4f",
   "metadata": {},
   "outputs": [],
   "source": [
    "from pytket import Circuit, OpType\n",
    "# add_gate(OpType.'gate_name',['angle(s)'],['qubit(s)'])\n",
    "circ = Circuit(3)\n",
    "circ.add_gate(OpType.X,[0]) \n",
    "circ.add_gate(OpType.SWAP,[1,2])\n",
    "circ.add_gate(OpType.CH,[0,2])\n",
    "circ.add_gate(OpType.Rx,[0.5],[1])\n",
    "circ.add_gate(OpType.CCX,[0,2,1])\n",
    "circ.add_gate(OpType.CRy,[0.25],[0,2])\n",
    "render_circuit_jupyter(circ)"
   ]
  },
  {
   "cell_type": "code",
   "execution_count": null,
   "id": "9a018d4d-e444-4cd0-8a98-9fbf3d9c340a",
   "metadata": {},
   "outputs": [],
   "source": [
    "from pytket import Circuit, OpType\n",
    "# add_gate(OpType.'gate_name',['angle(s)'],['qubit(s)'])\n",
    "circ = Circuit(4)\n",
    "circ.add_gate(OpType.U1,[0.75],[0]) \n",
    "circ.add_gate(OpType.U2,[0.75,0.25],[1])\n",
    "circ.add_gate(OpType.U3,[0.5,0.5,0.5],[2])\n",
    "circ.add_gate(OpType.CU1,[0.5],[0,2])\n",
    "circ.add_gate(OpType.CU3,[0.5,0.75,0.25],[1,2])\n",
    "circ.add_gate(OpType.CnRy,[0.5],[0])\n",
    "circ.add_gate(OpType.CnRy,[0.5],[1,0])\n",
    "circ.add_gate(OpType.CnRy,[0.5],[1,2,0])\n",
    "circ.add_gate(OpType.CnRy,[0.5],[1,2,3,0])\n",
    "circ.add_gate(OpType.CnX,[3])\n",
    "circ.add_gate(OpType.CnX,[2,3])\n",
    "circ.add_gate(OpType.CnX,[1,2,3])\n",
    "circ.add_gate(OpType.CnX,[0,1,2,3])\n",
    "render_circuit_jupyter(circ)"
   ]
  },
  {
   "cell_type": "code",
   "execution_count": null,
   "id": "c18f161d-46b0-407e-8d15-ccb62607c2c9",
   "metadata": {},
   "outputs": [],
   "source": []
  },
  {
   "cell_type": "markdown",
   "id": "7d3bb569-7ddf-48ed-bc99-8e3603d87789",
   "metadata": {},
   "source": [
    "## 3. 測定\n",
    "### tketでは、すべての測定はZ基底$\\{|0\\rangle,|1\\rangle\\}$で行われる。"
   ]
  },
  {
   "cell_type": "markdown",
   "id": "80c03f6a-1283-4908-9872-bcce9b42ded3",
   "metadata": {
    "tags": []
   },
   "source": [
    "- `Circuit.Measure('qubit','bit')`\n",
    "\n",
    "として利用\n",
    "\n",
    "- Z基底以外での測定をしたい場合には、測定の直前でZ基底を基底変換する"
   ]
  },
  {
   "cell_type": "code",
   "execution_count": null,
   "id": "04e2f56e-0e6b-44f1-872b-5d8db3180e1b",
   "metadata": {},
   "outputs": [],
   "source": [
    "from pytket import Circuit\n",
    "from pytket.circuit.display import render_circuit_jupyter\n",
    "circ = Circuit(2, 2)\n",
    "circ.Measure(0, 0)  #  measurement on qubit 0, saving result in bit 0\n",
    "circ.add_barrier([0,1])\n",
    "circ.H(1) # change of basis\n",
    "circ.Measure(1, 1)  # X-basis measurement on qubit 1, saving result in bit 1\n",
    "render_circuit_jupyter(circ)"
   ]
  },
  {
   "cell_type": "markdown",
   "id": "a2041703-16ff-4325-9832-076802e6f857",
   "metadata": {},
   "source": [
    "測定結果を上書きすることが可能"
   ]
  },
  {
   "cell_type": "code",
   "execution_count": null,
   "id": "58da5798-0ca3-45fc-b55b-093f953747f9",
   "metadata": {},
   "outputs": [],
   "source": [
    "from pytket import Circuit\n",
    "circ = Circuit(2, 1)\n",
    "circ.Measure(0, 0)  # measurement on qubit 0\n",
    "circ.Measure(1, 0)  # overwrites the first result with the measurement on qubit 1\n",
    "render_circuit_jupyter(circ)"
   ]
  },
  {
   "cell_type": "markdown",
   "id": "b17497d5-44a5-481b-a574-3823f36f4101",
   "metadata": {},
   "source": [
    "すべての量子ビットを測定する\n",
    "- `Circuit.measure_all()`\n",
    "\n",
    "量子ビット数に対してビット数が少ない場合にはビットを補完する"
   ]
  },
  {
   "cell_type": "code",
   "execution_count": null,
   "id": "5db8b24c-fd41-466e-92f6-78c8a032e8c1",
   "metadata": {},
   "outputs": [],
   "source": [
    "from pytket import Circuit\n",
    "# measure qubit 0 in Z basis and 1 in X basis\n",
    "circ = Circuit(2, 2)\n",
    "circ.measure_all()\n",
    "render_circuit_jupyter(circ)\n",
    "\n",
    "circ = Circuit(2, 1)\n",
    "circ.measure_all()\n",
    "render_circuit_jupyter(circ)\n",
    "\n",
    "# measure_all() adds bits if they are not already defined, so equivalently\n",
    "circ = Circuit(2)\n",
    "circ.measure_all()\n",
    "render_circuit_jupyter(circ)"
   ]
  },
  {
   "cell_type": "markdown",
   "id": "18cba12e-c611-4fdf-a3e6-d11628e519c1",
   "metadata": {},
   "source": [
    "レジスターを指定して量子ビットを測定する\n",
    "- `Circuit.measure_register('QubitRegister','name of BitRegister to be created')`\n",
    "\n",
    "QubitRegisterのリストは以下で取得可能\n",
    "- `Circuit.q_registers`"
   ]
  },
  {
   "cell_type": "code",
   "execution_count": null,
   "id": "e001db71-4b81-4c1d-9d71-8ad1b0925a73",
   "metadata": {},
   "outputs": [],
   "source": [
    "circ = Circuit()        # no qubits or bits\n",
    "circ.add_q_register('qb1',2)       # add 2 qubits\n",
    "circ.add_q_register('qb2',1)       # add 1 qubit\n",
    "render_circuit_jupyter(circ)"
   ]
  },
  {
   "cell_type": "code",
   "execution_count": null,
   "id": "0d3cad12-f828-4386-96c8-f9339e63fa07",
   "metadata": {},
   "outputs": [],
   "source": [
    "circ.q_registers"
   ]
  },
  {
   "cell_type": "markdown",
   "id": "2ed1c355-9fd1-46d6-8777-0ddf125199b8",
   "metadata": {},
   "source": [
    "QubitRegister(\"qb1\", 2)を測定する"
   ]
  },
  {
   "cell_type": "code",
   "execution_count": null,
   "id": "d78b1b2b-5873-4266-b6e1-4f773e5b8943",
   "metadata": {},
   "outputs": [],
   "source": [
    "circ = Circuit()        # no qubits or bits\n",
    "circ.add_q_register('qb1',2)       # add 2 qubits\n",
    "circ.add_q_register('qb2',1)       # add 1 qubit\n",
    "circ.measure_register(circ.q_registers[0],'cb')\n",
    "render_circuit_jupyter(circ)"
   ]
  },
  {
   "cell_type": "markdown",
   "id": "81e18ff8-ff73-406d-a1a0-a4754e5aa554",
   "metadata": {},
   "source": [
    "## ※ここまでの知識を使って量子回路を作成し、シミュレータにJobを投げてみる"
   ]
  },
  {
   "cell_type": "markdown",
   "id": "a3be9fa2-97e3-4ba0-afe9-53fb1bd2015d",
   "metadata": {},
   "source": [
    "### 重ね合わせ状態を作成\n",
    "$$ |\\Psi\\rangle = \\frac{1}{\\sqrt{2}}(|0\\rangle+|1\\rangle)$$"
   ]
  },
  {
   "cell_type": "code",
   "execution_count": null,
   "id": "0e358b49-c8e0-4798-9baf-7755febfd970",
   "metadata": {},
   "outputs": [],
   "source": [
    "from pytket import Circuit, OpType\n",
    "circ = Circuit(1, 1)\n",
    "circ.H(0)\n",
    "circ.Measure(0, 0)\n",
    "render_circuit_jupyter(circ)"
   ]
  },
  {
   "cell_type": "code",
   "execution_count": null,
   "id": "4406c7ed-a565-419a-a6de-7fc5bf87c88e",
   "metadata": {},
   "outputs": [],
   "source": [
    "from pytket.extensions.qiskit import AerBackend\n",
    "from qiskit.visualization import plot_histogram\n",
    "backend = AerBackend()\n",
    "handle = backend.process_circuit(circ, n_shots =10000)\n",
    "result_counts = backend.get_result(handle).get_counts()\n",
    "plot_histogram(result_counts)"
   ]
  },
  {
   "cell_type": "code",
   "execution_count": null,
   "id": "a99f2039-ef0b-4e19-9fb9-4f2094bed20a",
   "metadata": {},
   "outputs": [],
   "source": [
    "from pytket import Circuit, OpType\n",
    "circ = Circuit(2, 1)\n",
    "circ.H(0)\n",
    "circ.Measure(0, 0)\n",
    "# Actively reset state to |0>\n",
    "circ.add_gate(OpType.Reset, [0])\n",
    "# Conditionally flip state to |1> to reflect measurement result\n",
    "circ.X(0, condition_bits=[0], condition_value=1)\n",
    "# Use the qubit as if the measurement was non-destructive\n",
    "circ.CX(0, 1)\n",
    "circ.Measure(1,0)\n",
    "render_circuit_jupyter(circ)"
   ]
  },
  {
   "cell_type": "code",
   "execution_count": null,
   "id": "64d6a0e6-6924-4811-aa19-9a9ce4ee69fe",
   "metadata": {},
   "outputs": [],
   "source": [
    "from pytket.extensions.qiskit import AerBackend\n",
    "from qiskit.visualization import plot_histogram\n",
    "backend = AerBackend()\n",
    "handle = backend.process_circuit(circ, n_shots =10000)\n",
    "result_counts = backend.get_result(handle).get_counts()\n",
    "plot_histogram(result_counts)"
   ]
  },
  {
   "cell_type": "markdown",
   "id": "e27125c4-9a6a-49e7-a6c9-609211a893ea",
   "metadata": {
    "tags": []
   },
   "source": [
    "## 5. バリア (オプション)\n",
    "バリアは命令として存在しますが、能動的な操作は行いません。その代わり、その機能は2つあります。\n",
    "- 実行時には、バリアより前の操作がバリアより後の操作の開始前に終了していることを保証する。\n",
    "- コンパイル時に、コンパイラがバリアの周囲で操作を並べ替えるのを防ぐ。"
   ]
  },
  {
   "cell_type": "markdown",
   "id": "d0dfc5af-4ebd-493c-9c0a-5cda0e096e61",
   "metadata": {},
   "source": [
    "バリアの挿入\n",
    "- `Circuit.add_barrier(['qubit(s)'],['bit(s)'])`\n",
    "\n",
    "※バリアの除去は`pytket.passes`に組み込まれている\n",
    "- `RemoveBarriers().apply(Circuit)`"
   ]
  },
  {
   "cell_type": "code",
   "execution_count": null,
   "id": "1dbffcbb-aa72-4738-84af-5ec6b1729f0b",
   "metadata": {},
   "outputs": [],
   "source": [
    "from pytket import Circuit\n",
    "circ = Circuit(3, 2)\n",
    "circ.CX(1, 2)\n",
    "circ.Measure(0, 0)\n",
    "circ.Measure(2, 1)\n",
    "render_circuit_jupyter(circ)"
   ]
  },
  {
   "cell_type": "code",
   "execution_count": null,
   "id": "986a97d7-ccc4-48e5-9a57-2ae346d77df1",
   "metadata": {},
   "outputs": [],
   "source": [
    "from pytket import Circuit\n",
    "circ = Circuit(3, 2)\n",
    "circ.CX(1, 2)\n",
    "circ.add_barrier([0, 1, 2], [0, 1]) # add a barrier on all qubits and bits\n",
    "circ.Measure(0, 0)\n",
    "circ.Measure(2, 1)\n",
    "render_circuit_jupyter(circ)"
   ]
  },
  {
   "cell_type": "code",
   "execution_count": null,
   "id": "a1ef1543-73f9-417a-871b-2e46fd0c8627",
   "metadata": {},
   "outputs": [],
   "source": [
    "from pytket.passes import RemoveBarriers\n",
    "RemoveBarriers().apply(circ)\n",
    "render_circuit_jupyter(circ)"
   ]
  },
  {
   "cell_type": "markdown",
   "id": "7297ae3a-270d-4020-9e76-e7d3c9b38837",
   "metadata": {},
   "source": [
    "# B. tketを使った量子回路の作成　応用編"
   ]
  },
  {
   "cell_type": "markdown",
   "id": "c1ca8d22-82d8-4515-a386-8874fbcaee78",
   "metadata": {},
   "source": [
    "## 5. 量子回路のボックス化\n",
    "任意の回路を実装するためには、個々の基本ゲートで作業すれば十分ですが、それが最も便利な方法であるとは限りません。\n",
    "一般に、より高度な構造を使って構築した方がはるかに簡単です。\n",
    "pytketでは、複雑な構造を抽象化するために、「ボックス」という概念を用いています。\n",
    "\n",
    "CircBoxでは、Circuitを1つのsubcircuitとして定義し、あたかも1つのゲートであるかのように見せることができます。\n",
    "\n",
    "- `CircBox(Circuit)`\n",
    "\n",
    "としてボックス化することが可能\n",
    "\n",
    "- `Circuit.add_circbox('box name',['qubit(s)'])`\n",
    "\n",
    "としてボックスを作用させる"
   ]
  },
  {
   "cell_type": "code",
   "execution_count": null,
   "id": "5485931e-e771-4354-bb91-a930316b5e60",
   "metadata": {},
   "outputs": [],
   "source": [
    "from pytket.circuit import Circuit, CircBox\n",
    "sub = Circuit(2)\n",
    "sub.CX(0, 1).Rz(0.2, 1).CX(0, 1)\n",
    "render_circuit_jupyter(sub)\n",
    "sub_box = CircBox(sub)\n",
    "\n",
    "circ = Circuit(3)\n",
    "circ.add_circbox(sub_box, [0, 1])\n",
    "circ.X(1)\n",
    "circ.add_circbox(sub_box, [2, 1])\n",
    "circ.add_circbox(sub_box, [0, 2])\n",
    "render_circuit_jupyter(circ)"
   ]
  },
  {
   "cell_type": "markdown",
   "id": "021fff8c-ade4-4df4-be48-5ec0cd468645",
   "metadata": {},
   "source": [
    "## 6. 制御量子ゲートのカスタマイズ\n",
    "制御量子ビットの状態によって、量子ゲートやサブサーキットをターゲットとなる量子ビットに適用する/しない機能をもった制御量子ゲートをカスタマイズすることができる。\n",
    "- `QControlBox('gate or CircBox','number of c_qubits')`\n",
    "\n",
    "量子ゲートは次の操作でカプセル化をする必要がある\n",
    "\n",
    "回転角の指定: 無 \n",
    "- Op.create(OpType.'gate_name')\n",
    "\n",
    "回転角の指定: 有\n",
    "- Op.create(OpType.'gate_name','angle')"
   ]
  },
  {
   "cell_type": "code",
   "execution_count": null,
   "id": "d60f916d-75e3-43ee-91f2-ea7f4942bfa7",
   "metadata": {},
   "outputs": [],
   "source": [
    "from pytket.circuit import Op, OpType, QControlBox\n",
    "ops = Op.create(OpType.S)\n",
    "opRx = Op.create(OpType.Rx,0.25)\n",
    "\n",
    "ccs = QControlBox(ops, 2)\n",
    "ccRx = QControlBox(opRx, 3)\n",
    "cbox = QControlBox(sub_box, 1)\n",
    "\n",
    "circ = Circuit(4)\n",
    "circ.add_qcontrolbox(ccs, [0,2,1])\n",
    "circ.add_qcontrolbox(ccRx, [0,2,3,1])\n",
    "circ.add_qcontrolbox(cbox, [0,2,3])\n",
    "render_circuit_jupyter(circ)"
   ]
  },
  {
   "cell_type": "markdown",
   "id": "ae5c7498-abf4-4be1-9d12-8d22ef85fb82",
   "metadata": {},
   "source": [
    "## 7. 状態の確認とユニタリー行列の確認\n",
    "作成した量子回路が与える量子状態を確認することができます。\n",
    "量子回路の構成が正しいかどうかをチェックするのに役立ちます。\n",
    "\n",
    "量子回路が適用された後のシステムの状態ベクトルを生成。すべての量子ビットが初期化された状態であると仮定しています。\n",
    "- `Circuit.get_statevector()`\n",
    "\n",
    "量子回路で適用されるユニタリー行列を数値的に計算\n",
    "- `Circuit.get_unitary()`"
   ]
  },
  {
   "cell_type": "code",
   "execution_count": null,
   "id": "e4a5672f-087b-4bbf-a341-5d35e572fe6a",
   "metadata": {},
   "outputs": [],
   "source": [
    "from pytket import Circuit\n",
    "circ=Circuit(2)\n",
    "circ.H(0).CX(0,1)\n",
    "circ.get_statevector()"
   ]
  },
  {
   "cell_type": "code",
   "execution_count": null,
   "id": "e129534b-8b4e-4717-ac98-319f0cb2c485",
   "metadata": {},
   "outputs": [],
   "source": [
    "from pytket import Circuit\n",
    "circ=Circuit(2)\n",
    "circ.H(0).CZ(0,1).H(1)\n",
    "circ.get_unitary()"
   ]
  },
  {
   "cell_type": "markdown",
   "id": "affda034-01b6-48fc-bdcc-8ef6befe65e3",
   "metadata": {},
   "source": [
    "## 8. 量子回路の解析\n",
    "\n",
    "量子回路の複雑さを測る定量的なものとしてゲート数、深さがある。\n",
    "\n",
    "ゲート数：量子回路に含まれるゲート数\n",
    "\n",
    "深さ：並列に実行可能なゲートを1グループとしたときのグループ数\n",
    "\n",
    "量子回路のゲート数、深さは次で出力できる\n",
    "- `Circuit.n_gates`\n",
    "- `Circuit.depth()`\n",
    "\n",
    "特定の量子ゲート(複数可)に着目して、ゲート数、深さを算出することも可能\n",
    "- `Circuit.n_gates_of_type(OpType.'gate_name')`\n",
    "- `Circuit.depth_by_type(OpType.'gate_name')`\n"
   ]
  },
  {
   "cell_type": "code",
   "execution_count": null,
   "id": "f988be9e-3b29-43f1-9505-445c47f28d40",
   "metadata": {},
   "outputs": [],
   "source": [
    "from pytket import Circuit\n",
    "circ = Circuit(3)\n",
    "circ.CX(0, 1).CZ(1, 2).X(1).Rx(0.3, 0)\n",
    "\n",
    "print('Gete number: ', circ.n_gates)\n",
    "print('Circuit depth: ', circ.depth())\n",
    "render_circuit_jupyter(circ)"
   ]
  },
  {
   "cell_type": "code",
   "execution_count": null,
   "id": "bc846119-a770-4031-a0d5-5a16f7293b96",
   "metadata": {},
   "outputs": [],
   "source": [
    "from pytket import Circuit, OpType\n",
    "circ = Circuit(4)\n",
    "circ.T(0)\n",
    "circ.CX(0, 1)\n",
    "circ.CX(2, 3)\n",
    "circ.T(3)\n",
    "circ.CZ(0, 2)\n",
    "circ.CZ(1, 3)\n",
    "circ.T(1)\n",
    "\n",
    "print('T number: ', circ.n_gates_of_type(OpType.T))\n",
    "print('CX number: ', circ.n_gates_of_type(OpType.CX))\n",
    "print('CZ number: ', circ.n_gates_of_type(OpType.CZ))\n",
    "print('CX number + CZ number: ', circ.n_gates_of_type(OpType.CX) + circ.n_gates_of_type(OpType.CZ))\n",
    "print('T depth: ', circ.depth_by_type(OpType.T))\n",
    "print('CX & CZ depth: ', circ.depth_by_type({OpType.CX, OpType.CZ}))\n",
    "render_circuit_jupyter(circ)"
   ]
  },
  {
   "cell_type": "markdown",
   "id": "8517fadc-ab02-4ee9-942c-ff865aceed94",
   "metadata": {},
   "source": [
    "## 9. パラメータ付き量子ゲート\n",
    "似たような構造を持ちながらゲートパラメータを変化させた回路を多数使用する実験が非常に一般的である。\n",
    "VQEやQAOAのような変分アルゴリズムでは、回路パラメータを代数記号として扱い、エネルギーランドスケープを探索しています。\n",
    "\n",
    "- `sympy`の`Symbol`, `symbols`を利用して、量子ゲートのパラメータを代数記号として扱うことができます\n",
    "- `Circuit.symbol_substitution('set of parameter values')`として値の代入可能"
   ]
  },
  {
   "cell_type": "code",
   "execution_count": null,
   "id": "58d9c063-21af-4b24-94f9-b6b2a461eb38",
   "metadata": {},
   "outputs": [],
   "source": [
    "from pytket import Circuit, OpType\n",
    "from sympy import symbols, Symbol\n",
    "a = Symbol(\"a\")\n",
    "b, c = symbols(\"b c\")\n",
    "circ = Circuit(2)\n",
    "circ.Rx(a, 0)\n",
    "circ.Rx(c, 1)\n",
    "circ.CX(0, 1)\n",
    "circ.add_gate(OpType.YYPhase, b, [0, 1])\n",
    "render_circuit_jupyter(circ)"
   ]
  },
  {
   "cell_type": "markdown",
   "id": "35406479-6f49-4e9b-a6b3-ba19d8fab2e6",
   "metadata": {},
   "source": [
    "代入操作\n",
    "- `symbol_substitution`\n",
    "\n",
    "を利用"
   ]
  },
  {
   "cell_type": "code",
   "execution_count": null,
   "id": "4809bba2-d60e-4199-9651-ea0d7326b823",
   "metadata": {},
   "outputs": [],
   "source": [
    "s_map = {a: 0.3, b:1.25}\n",
    "circ.symbol_substitution(s_map)\n",
    "render_circuit_jupyter(circ)"
   ]
  },
  {
   "cell_type": "markdown",
   "id": "faecff60-d88d-4653-bb57-f74483849a4a",
   "metadata": {},
   "source": [
    "変数に変数を代入することも可能"
   ]
  },
  {
   "cell_type": "code",
   "execution_count": null,
   "id": "5f8cc2ea-548f-4e3b-bf79-02e6faaf064f",
   "metadata": {},
   "outputs": [],
   "source": [
    "from pytket import Circuit\n",
    "from sympy import symbols\n",
    "a, b, c = symbols(\"a b c\")\n",
    "circ = Circuit(2)\n",
    "circ.Rx(a, 0).Rx(c, 1).CX(0, 1).add_gate(OpType.YYPhase, b, [0, 1])\n",
    "render_circuit_jupyter(circ)\n",
    "\n",
    "s_map = {a: 2*a, c: a}  # replacement happens simultaneously, and not recursively\n",
    "circ.symbol_substitution(s_map)\n",
    "print(circ.get_commands())\n",
    "render_circuit_jupyter(circ)"
   ]
  },
  {
   "cell_type": "markdown",
   "id": "c137652e-ccc6-4e74-a83e-e29fbbd0cc45",
   "metadata": {},
   "source": [
    "作成したパラメータ付き量子回路が与える量子状態やユニタリー行列を確認することができます。\n",
    "- `circuit_to_symbolic_unitary(Circuit)`\n",
    "- `circuit_apply_symbolic_statevector(Circuit)`\n"
   ]
  },
  {
   "cell_type": "code",
   "execution_count": null,
   "id": "c9539448-7f6f-4355-a472-5847fe733840",
   "metadata": {},
   "outputs": [],
   "source": [
    "from pytket import Circuit\n",
    "from pytket.utils.symbolic import circuit_apply_symbolic_statevector, circuit_to_symbolic_unitary\n",
    "from sympy import Symbol\n",
    "a = Symbol(\"a\")\n",
    "circ = Circuit(2)\n",
    "circ.Rx(a, 0).CX(0, 1)\n",
    "render_circuit_jupyter(circ)\n",
    "display(circuit_apply_symbolic_statevector(circ))\n",
    "circuit_to_symbolic_unitary(circ)"
   ]
  },
  {
   "cell_type": "markdown",
   "id": "78988f7b-6612-4eeb-a14b-6086ce06d5c3",
   "metadata": {},
   "source": [
    "## 10. 量子回路レベルのオペレーション\n",
    "随伴の作用\n",
    "- `Circuit.dagger()`\n",
    "\n",
    "circuitのクラスターをcircuitに作用\n",
    "- `Circuit1.append(Circuit2)`\n"
   ]
  },
  {
   "cell_type": "code",
   "execution_count": null,
   "id": "e0d56946-dc5b-4edd-9c57-15dc4475f686",
   "metadata": {},
   "outputs": [],
   "source": [
    "from pytket import Circuit\n",
    "# we want a circuit for E = exp(-i pi (0.3 XX + 0.1 YY))\n",
    "circ = Circuit(2)\n",
    "\n",
    "# find C such that C; Rx(a, 0); C^dagger performs exp(-i a pi XX/2)\n",
    "# and C; Rz(b, 1); C^dagger performs exp(-i b pi YY/2)\n",
    "conj = Circuit(2)\n",
    "conj.V(0).V(1).CV(0, 1)\n",
    "render_circuit_jupyter(conj)\n",
    "conj_dag = conj.dagger()\n",
    "render_circuit_jupyter(conj_dag)\n",
    "\n",
    "circ.append(conj)\n",
    "circ.Rx(0.6, 0).Rz(0.2, 1)\n",
    "circ.append(conj_dag)\n",
    "render_circuit_jupyter(circ)\n"
   ]
  },
  {
   "cell_type": "code",
   "execution_count": null,
   "id": "04ca44ed-bad4-4f9e-8bd1-9de4a80336d7",
   "metadata": {},
   "outputs": [],
   "source": []
  }
 ],
 "metadata": {
  "kernelspec": {
   "display_name": "Python 3 (ipykernel)",
   "language": "python",
   "name": "python3"
  },
  "language_info": {
   "codemirror_mode": {
    "name": "ipython",
    "version": 3
   },
   "file_extension": ".py",
   "mimetype": "text/x-python",
   "name": "python",
   "nbconvert_exporter": "python",
   "pygments_lexer": "ipython3",
   "version": "3.9.7"
  }
 },
 "nbformat": 4,
 "nbformat_minor": 5
}
